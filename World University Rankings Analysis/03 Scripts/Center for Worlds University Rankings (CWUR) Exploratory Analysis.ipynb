{
 "cells": [
  {
   "cell_type": "markdown",
   "id": "9e400762",
   "metadata": {},
   "source": [
    "# 1. Center for World University Rankings Exploratory Analysis"
   ]
  },
  {
   "cell_type": "markdown",
   "id": "c9cff1a6",
   "metadata": {},
   "source": [
    "### Importing Libraries"
   ]
  },
  {
   "cell_type": "code",
   "execution_count": 16,
   "id": "c9f401de",
   "metadata": {},
   "outputs": [],
   "source": [
    "import pandas as pd\n",
    "import numpy as np\n",
    "import os\n",
    "import matplotlib.pyplot as plt\n",
    "import seaborn as sns\n",
    "import scipy"
   ]
  },
  {
   "cell_type": "markdown",
   "id": "7dfc780e",
   "metadata": {},
   "source": [
    "### Importing dataset"
   ]
  },
  {
   "cell_type": "code",
   "execution_count": 17,
   "id": "6ba3585b",
   "metadata": {},
   "outputs": [],
   "source": [
    "# Set path variable\n",
    "\n",
    "path = r'C:\\Users\\HP\\Documents\\CareerFoundry\\Data Immersion\\Achievement 6\\World University Rankings Analysis'"
   ]
  },
  {
   "cell_type": "code",
   "execution_count": 18,
   "id": "f69bd59c",
   "metadata": {},
   "outputs": [],
   "source": [
    "# Import dataset\n",
    "\n",
    "df_cwur = pd.read_csv(os.path.join(path, '02 Data', 'Original Data', 'cwurData.csv'))"
   ]
  },
  {
   "cell_type": "code",
   "execution_count": 19,
   "id": "e133b6dc",
   "metadata": {},
   "outputs": [
    {
     "data": {
      "text/html": [
       "<div>\n",
       "<style scoped>\n",
       "    .dataframe tbody tr th:only-of-type {\n",
       "        vertical-align: middle;\n",
       "    }\n",
       "\n",
       "    .dataframe tbody tr th {\n",
       "        vertical-align: top;\n",
       "    }\n",
       "\n",
       "    .dataframe thead th {\n",
       "        text-align: right;\n",
       "    }\n",
       "</style>\n",
       "<table border=\"1\" class=\"dataframe\">\n",
       "  <thead>\n",
       "    <tr style=\"text-align: right;\">\n",
       "      <th></th>\n",
       "      <th>world_rank</th>\n",
       "      <th>institution</th>\n",
       "      <th>country</th>\n",
       "      <th>national_rank</th>\n",
       "      <th>quality_of_education</th>\n",
       "      <th>alumni_employment</th>\n",
       "      <th>quality_of_faculty</th>\n",
       "      <th>publications</th>\n",
       "      <th>influence</th>\n",
       "      <th>citations</th>\n",
       "      <th>broad_impact</th>\n",
       "      <th>patents</th>\n",
       "      <th>score</th>\n",
       "      <th>year</th>\n",
       "    </tr>\n",
       "  </thead>\n",
       "  <tbody>\n",
       "    <tr>\n",
       "      <th>0</th>\n",
       "      <td>1</td>\n",
       "      <td>Harvard University</td>\n",
       "      <td>USA</td>\n",
       "      <td>1</td>\n",
       "      <td>7</td>\n",
       "      <td>9</td>\n",
       "      <td>1</td>\n",
       "      <td>1</td>\n",
       "      <td>1</td>\n",
       "      <td>1</td>\n",
       "      <td>NaN</td>\n",
       "      <td>5</td>\n",
       "      <td>100.00</td>\n",
       "      <td>2012</td>\n",
       "    </tr>\n",
       "    <tr>\n",
       "      <th>1</th>\n",
       "      <td>2</td>\n",
       "      <td>Massachusetts Institute of Technology</td>\n",
       "      <td>USA</td>\n",
       "      <td>2</td>\n",
       "      <td>9</td>\n",
       "      <td>17</td>\n",
       "      <td>3</td>\n",
       "      <td>12</td>\n",
       "      <td>4</td>\n",
       "      <td>4</td>\n",
       "      <td>NaN</td>\n",
       "      <td>1</td>\n",
       "      <td>91.67</td>\n",
       "      <td>2012</td>\n",
       "    </tr>\n",
       "    <tr>\n",
       "      <th>2</th>\n",
       "      <td>3</td>\n",
       "      <td>Stanford University</td>\n",
       "      <td>USA</td>\n",
       "      <td>3</td>\n",
       "      <td>17</td>\n",
       "      <td>11</td>\n",
       "      <td>5</td>\n",
       "      <td>4</td>\n",
       "      <td>2</td>\n",
       "      <td>2</td>\n",
       "      <td>NaN</td>\n",
       "      <td>15</td>\n",
       "      <td>89.50</td>\n",
       "      <td>2012</td>\n",
       "    </tr>\n",
       "    <tr>\n",
       "      <th>3</th>\n",
       "      <td>4</td>\n",
       "      <td>University of Cambridge</td>\n",
       "      <td>United Kingdom</td>\n",
       "      <td>1</td>\n",
       "      <td>10</td>\n",
       "      <td>24</td>\n",
       "      <td>4</td>\n",
       "      <td>16</td>\n",
       "      <td>16</td>\n",
       "      <td>11</td>\n",
       "      <td>NaN</td>\n",
       "      <td>50</td>\n",
       "      <td>86.17</td>\n",
       "      <td>2012</td>\n",
       "    </tr>\n",
       "    <tr>\n",
       "      <th>4</th>\n",
       "      <td>5</td>\n",
       "      <td>California Institute of Technology</td>\n",
       "      <td>USA</td>\n",
       "      <td>4</td>\n",
       "      <td>2</td>\n",
       "      <td>29</td>\n",
       "      <td>7</td>\n",
       "      <td>37</td>\n",
       "      <td>22</td>\n",
       "      <td>22</td>\n",
       "      <td>NaN</td>\n",
       "      <td>18</td>\n",
       "      <td>85.21</td>\n",
       "      <td>2012</td>\n",
       "    </tr>\n",
       "    <tr>\n",
       "      <th>5</th>\n",
       "      <td>6</td>\n",
       "      <td>Princeton University</td>\n",
       "      <td>USA</td>\n",
       "      <td>5</td>\n",
       "      <td>8</td>\n",
       "      <td>14</td>\n",
       "      <td>2</td>\n",
       "      <td>53</td>\n",
       "      <td>33</td>\n",
       "      <td>26</td>\n",
       "      <td>NaN</td>\n",
       "      <td>101</td>\n",
       "      <td>82.50</td>\n",
       "      <td>2012</td>\n",
       "    </tr>\n",
       "    <tr>\n",
       "      <th>6</th>\n",
       "      <td>7</td>\n",
       "      <td>University of Oxford</td>\n",
       "      <td>United Kingdom</td>\n",
       "      <td>2</td>\n",
       "      <td>13</td>\n",
       "      <td>28</td>\n",
       "      <td>9</td>\n",
       "      <td>15</td>\n",
       "      <td>13</td>\n",
       "      <td>19</td>\n",
       "      <td>NaN</td>\n",
       "      <td>26</td>\n",
       "      <td>82.34</td>\n",
       "      <td>2012</td>\n",
       "    </tr>\n",
       "    <tr>\n",
       "      <th>7</th>\n",
       "      <td>8</td>\n",
       "      <td>Yale University</td>\n",
       "      <td>USA</td>\n",
       "      <td>6</td>\n",
       "      <td>14</td>\n",
       "      <td>31</td>\n",
       "      <td>12</td>\n",
       "      <td>14</td>\n",
       "      <td>6</td>\n",
       "      <td>15</td>\n",
       "      <td>NaN</td>\n",
       "      <td>66</td>\n",
       "      <td>79.14</td>\n",
       "      <td>2012</td>\n",
       "    </tr>\n",
       "    <tr>\n",
       "      <th>8</th>\n",
       "      <td>9</td>\n",
       "      <td>Columbia University</td>\n",
       "      <td>USA</td>\n",
       "      <td>7</td>\n",
       "      <td>23</td>\n",
       "      <td>21</td>\n",
       "      <td>10</td>\n",
       "      <td>13</td>\n",
       "      <td>12</td>\n",
       "      <td>14</td>\n",
       "      <td>NaN</td>\n",
       "      <td>5</td>\n",
       "      <td>78.86</td>\n",
       "      <td>2012</td>\n",
       "    </tr>\n",
       "    <tr>\n",
       "      <th>9</th>\n",
       "      <td>10</td>\n",
       "      <td>University of California, Berkeley</td>\n",
       "      <td>USA</td>\n",
       "      <td>8</td>\n",
       "      <td>16</td>\n",
       "      <td>52</td>\n",
       "      <td>6</td>\n",
       "      <td>6</td>\n",
       "      <td>5</td>\n",
       "      <td>3</td>\n",
       "      <td>NaN</td>\n",
       "      <td>16</td>\n",
       "      <td>78.55</td>\n",
       "      <td>2012</td>\n",
       "    </tr>\n",
       "  </tbody>\n",
       "</table>\n",
       "</div>"
      ],
      "text/plain": [
       "   world_rank                            institution         country  \\\n",
       "0           1                     Harvard University             USA   \n",
       "1           2  Massachusetts Institute of Technology             USA   \n",
       "2           3                    Stanford University             USA   \n",
       "3           4                University of Cambridge  United Kingdom   \n",
       "4           5     California Institute of Technology             USA   \n",
       "5           6                   Princeton University             USA   \n",
       "6           7                   University of Oxford  United Kingdom   \n",
       "7           8                        Yale University             USA   \n",
       "8           9                    Columbia University             USA   \n",
       "9          10     University of California, Berkeley             USA   \n",
       "\n",
       "   national_rank  quality_of_education  alumni_employment  quality_of_faculty  \\\n",
       "0              1                     7                  9                   1   \n",
       "1              2                     9                 17                   3   \n",
       "2              3                    17                 11                   5   \n",
       "3              1                    10                 24                   4   \n",
       "4              4                     2                 29                   7   \n",
       "5              5                     8                 14                   2   \n",
       "6              2                    13                 28                   9   \n",
       "7              6                    14                 31                  12   \n",
       "8              7                    23                 21                  10   \n",
       "9              8                    16                 52                   6   \n",
       "\n",
       "   publications  influence  citations  broad_impact  patents   score  year  \n",
       "0             1          1          1           NaN        5  100.00  2012  \n",
       "1            12          4          4           NaN        1   91.67  2012  \n",
       "2             4          2          2           NaN       15   89.50  2012  \n",
       "3            16         16         11           NaN       50   86.17  2012  \n",
       "4            37         22         22           NaN       18   85.21  2012  \n",
       "5            53         33         26           NaN      101   82.50  2012  \n",
       "6            15         13         19           NaN       26   82.34  2012  \n",
       "7            14          6         15           NaN       66   79.14  2012  \n",
       "8            13         12         14           NaN        5   78.86  2012  \n",
       "9             6          5          3           NaN       16   78.55  2012  "
      ]
     },
     "execution_count": 19,
     "metadata": {},
     "output_type": "execute_result"
    }
   ],
   "source": [
    "# Check to see if it imported correctly\n",
    "\n",
    "df_cwur.head(10)"
   ]
  },
  {
   "cell_type": "code",
   "execution_count": 20,
   "id": "2c33e76a",
   "metadata": {
    "scrolled": true
   },
   "outputs": [
    {
     "data": {
      "text/plain": [
       "(2200, 14)"
      ]
     },
     "execution_count": 20,
     "metadata": {},
     "output_type": "execute_result"
    }
   ],
   "source": [
    "# Check dimensions of dataframe\n",
    "\n",
    "df_cwur.shape"
   ]
  },
  {
   "cell_type": "markdown",
   "id": "7aecac56",
   "metadata": {},
   "source": [
    "### Data Cleaning"
   ]
  },
  {
   "cell_type": "markdown",
   "id": "f23d03c8",
   "metadata": {},
   "source": [
    "#### Dropping Irrelevant Columns"
   ]
  },
  {
   "cell_type": "code",
   "execution_count": 21,
   "id": "f7847c6a",
   "metadata": {},
   "outputs": [
    {
     "data": {
      "text/plain": [
       "Index(['world_rank', 'institution', 'country', 'national_rank',\n",
       "       'quality_of_education', 'alumni_employment', 'quality_of_faculty',\n",
       "       'publications', 'influence', 'citations', 'broad_impact', 'patents',\n",
       "       'score', 'year'],\n",
       "      dtype='object')"
      ]
     },
     "execution_count": 21,
     "metadata": {},
     "output_type": "execute_result"
    }
   ],
   "source": [
    "# Check the column names\n",
    "\n",
    "df_cwur.columns"
   ]
  },
  {
   "cell_type": "markdown",
   "id": "a50f54b0",
   "metadata": {},
   "source": [
    "It looks like all the columns would be relevant for analysis. "
   ]
  },
  {
   "cell_type": "markdown",
   "id": "ef6d23ea",
   "metadata": {},
   "source": [
    "#### Renaming Columns"
   ]
  },
  {
   "cell_type": "code",
   "execution_count": 22,
   "id": "7b62951a",
   "metadata": {},
   "outputs": [],
   "source": [
    "# Rename certain columns to be more intuitive\n",
    "\n",
    "df_cwur.rename(columns = {'world_rank' : 'world_rank_CWUR',\n",
    "                          'institution' : 'university_name',\n",
    "                          'quality_of_education' : 'quality_of_education_rank',\n",
    "                          'alumni_employment' : 'alumni_employment_rank',\n",
    "                          'quality_of_faculty' : 'quality_of_faculty_rank',\n",
    "                          'publications' : 'publications_rank',\n",
    "                          'influence' : 'influence_rank',\n",
    "                          'citations' : 'citations_rank',\n",
    "                          'patents' : 'patents_rank',\n",
    "                          'broad_impact' : 'broad_impact_rank',\n",
    "                          'score' : 'overall_score_CWUR',}, inplace = True)"
   ]
  },
  {
   "cell_type": "code",
   "execution_count": 23,
   "id": "a96bf99b",
   "metadata": {},
   "outputs": [
    {
     "data": {
      "text/plain": [
       "Index(['world_rank_CWUR', 'university_name', 'country', 'national_rank',\n",
       "       'quality_of_education_rank', 'alumni_employment_rank',\n",
       "       'quality_of_faculty_rank', 'publications_rank', 'influence_rank',\n",
       "       'citations_rank', 'broad_impact_rank', 'patents_rank',\n",
       "       'overall_score_CWUR', 'year'],\n",
       "      dtype='object')"
      ]
     },
     "execution_count": 23,
     "metadata": {},
     "output_type": "execute_result"
    }
   ],
   "source": [
    "# Check column names to see if they were replaced correctly\n",
    "\n",
    "df_cwur.columns"
   ]
  },
  {
   "cell_type": "markdown",
   "id": "a96e9f3e",
   "metadata": {},
   "source": [
    "#### Changing a Variable Data Type"
   ]
  },
  {
   "cell_type": "code",
   "execution_count": 24,
   "id": "50e6f886",
   "metadata": {},
   "outputs": [
    {
     "data": {
      "text/plain": [
       "world_rank_CWUR                int64\n",
       "university_name               object\n",
       "country                       object\n",
       "national_rank                  int64\n",
       "quality_of_education_rank      int64\n",
       "alumni_employment_rank         int64\n",
       "quality_of_faculty_rank        int64\n",
       "publications_rank              int64\n",
       "influence_rank                 int64\n",
       "citations_rank                 int64\n",
       "broad_impact_rank            float64\n",
       "patents_rank                   int64\n",
       "overall_score_CWUR           float64\n",
       "year                           int64\n",
       "dtype: object"
      ]
     },
     "execution_count": 24,
     "metadata": {},
     "output_type": "execute_result"
    }
   ],
   "source": [
    "df_cwur.dtypes"
   ]
  },
  {
   "cell_type": "markdown",
   "id": "16a9b1ad",
   "metadata": {},
   "source": [
    "All of the datatypes seem appropriate. "
   ]
  },
  {
   "cell_type": "markdown",
   "id": "9dbeeacc",
   "metadata": {},
   "source": [
    "#### Addressing Mixed Data Columns"
   ]
  },
  {
   "cell_type": "code",
   "execution_count": 25,
   "id": "fb0acaea",
   "metadata": {},
   "outputs": [],
   "source": [
    "for col in df_cwur.columns.tolist():\n",
    "  weird = (df_cwur[[col]].applymap(type) != df_cwur[[col]].iloc[0].apply(type)).any(axis = 1)\n",
    "  if len (df_cwur[weird]) > 0:\n",
    "    print (col)"
   ]
  },
  {
   "cell_type": "markdown",
   "id": "d75c32c9",
   "metadata": {},
   "source": [
    "There are no mixed data columns. "
   ]
  },
  {
   "cell_type": "markdown",
   "id": "2f636d7d",
   "metadata": {},
   "source": [
    "#### Addressing Missing Values"
   ]
  },
  {
   "cell_type": "code",
   "execution_count": 26,
   "id": "e708f6bc",
   "metadata": {},
   "outputs": [
    {
     "data": {
      "text/plain": [
       "world_rank_CWUR                0\n",
       "university_name                0\n",
       "country                        0\n",
       "national_rank                  0\n",
       "quality_of_education_rank      0\n",
       "alumni_employment_rank         0\n",
       "quality_of_faculty_rank        0\n",
       "publications_rank              0\n",
       "influence_rank                 0\n",
       "citations_rank                 0\n",
       "broad_impact_rank            200\n",
       "patents_rank                   0\n",
       "overall_score_CWUR             0\n",
       "year                           0\n",
       "dtype: int64"
      ]
     },
     "execution_count": 26,
     "metadata": {},
     "output_type": "execute_result"
    }
   ],
   "source": [
    "df_cwur.isnull().sum()"
   ]
  },
  {
   "cell_type": "markdown",
   "id": "a83a0451",
   "metadata": {},
   "source": [
    "There are 200 values in the 'broad_impact_rank' column that are missing. These missing values are only apparent in 2012 and 2013, and can largely be ignored. It's likely that the 'broad_impact_rank' became a factor starting in 2014. If required, the entire column can be omitted from analysis. "
   ]
  },
  {
   "cell_type": "markdown",
   "id": "edad0626",
   "metadata": {},
   "source": [
    "#### Addressing Duplicate Values"
   ]
  },
  {
   "cell_type": "code",
   "execution_count": 27,
   "id": "e7e3bb3e",
   "metadata": {},
   "outputs": [],
   "source": [
    "df_dups = df_cwur[df_cwur.duplicated()]"
   ]
  },
  {
   "cell_type": "code",
   "execution_count": 28,
   "id": "9ab7c658",
   "metadata": {},
   "outputs": [
    {
     "data": {
      "text/html": [
       "<div>\n",
       "<style scoped>\n",
       "    .dataframe tbody tr th:only-of-type {\n",
       "        vertical-align: middle;\n",
       "    }\n",
       "\n",
       "    .dataframe tbody tr th {\n",
       "        vertical-align: top;\n",
       "    }\n",
       "\n",
       "    .dataframe thead th {\n",
       "        text-align: right;\n",
       "    }\n",
       "</style>\n",
       "<table border=\"1\" class=\"dataframe\">\n",
       "  <thead>\n",
       "    <tr style=\"text-align: right;\">\n",
       "      <th></th>\n",
       "      <th>world_rank_CWUR</th>\n",
       "      <th>university_name</th>\n",
       "      <th>country</th>\n",
       "      <th>national_rank</th>\n",
       "      <th>quality_of_education_rank</th>\n",
       "      <th>alumni_employment_rank</th>\n",
       "      <th>quality_of_faculty_rank</th>\n",
       "      <th>publications_rank</th>\n",
       "      <th>influence_rank</th>\n",
       "      <th>citations_rank</th>\n",
       "      <th>broad_impact_rank</th>\n",
       "      <th>patents_rank</th>\n",
       "      <th>overall_score_CWUR</th>\n",
       "      <th>year</th>\n",
       "    </tr>\n",
       "  </thead>\n",
       "  <tbody>\n",
       "  </tbody>\n",
       "</table>\n",
       "</div>"
      ],
      "text/plain": [
       "Empty DataFrame\n",
       "Columns: [world_rank_CWUR, university_name, country, national_rank, quality_of_education_rank, alumni_employment_rank, quality_of_faculty_rank, publications_rank, influence_rank, citations_rank, broad_impact_rank, patents_rank, overall_score_CWUR, year]\n",
       "Index: []"
      ]
     },
     "execution_count": 28,
     "metadata": {},
     "output_type": "execute_result"
    }
   ],
   "source": [
    "df_dups"
   ]
  },
  {
   "cell_type": "markdown",
   "id": "394c9eef",
   "metadata": {},
   "source": [
    "There are no duplicate values in this dataframe."
   ]
  },
  {
   "cell_type": "markdown",
   "id": "0624eeec",
   "metadata": {},
   "source": [
    "### Summary Statistics"
   ]
  },
  {
   "cell_type": "code",
   "execution_count": 29,
   "id": "45117260",
   "metadata": {},
   "outputs": [
    {
     "data": {
      "text/html": [
       "<div>\n",
       "<style scoped>\n",
       "    .dataframe tbody tr th:only-of-type {\n",
       "        vertical-align: middle;\n",
       "    }\n",
       "\n",
       "    .dataframe tbody tr th {\n",
       "        vertical-align: top;\n",
       "    }\n",
       "\n",
       "    .dataframe thead th {\n",
       "        text-align: right;\n",
       "    }\n",
       "</style>\n",
       "<table border=\"1\" class=\"dataframe\">\n",
       "  <thead>\n",
       "    <tr style=\"text-align: right;\">\n",
       "      <th></th>\n",
       "      <th>world_rank_CWUR</th>\n",
       "      <th>national_rank</th>\n",
       "      <th>quality_of_education_rank</th>\n",
       "      <th>alumni_employment_rank</th>\n",
       "      <th>quality_of_faculty_rank</th>\n",
       "      <th>publications_rank</th>\n",
       "      <th>influence_rank</th>\n",
       "      <th>citations_rank</th>\n",
       "      <th>broad_impact_rank</th>\n",
       "      <th>patents_rank</th>\n",
       "      <th>overall_score_CWUR</th>\n",
       "      <th>year</th>\n",
       "    </tr>\n",
       "  </thead>\n",
       "  <tbody>\n",
       "    <tr>\n",
       "      <th>count</th>\n",
       "      <td>2200.000000</td>\n",
       "      <td>2200.000000</td>\n",
       "      <td>2200.000000</td>\n",
       "      <td>2200.000000</td>\n",
       "      <td>2200.000000</td>\n",
       "      <td>2200.000000</td>\n",
       "      <td>2200.000000</td>\n",
       "      <td>2200.000000</td>\n",
       "      <td>2000.000000</td>\n",
       "      <td>2200.000000</td>\n",
       "      <td>2200.000000</td>\n",
       "      <td>2200.000000</td>\n",
       "    </tr>\n",
       "    <tr>\n",
       "      <th>mean</th>\n",
       "      <td>459.590909</td>\n",
       "      <td>40.278182</td>\n",
       "      <td>275.100455</td>\n",
       "      <td>357.116818</td>\n",
       "      <td>178.888182</td>\n",
       "      <td>459.908636</td>\n",
       "      <td>459.797727</td>\n",
       "      <td>413.417273</td>\n",
       "      <td>496.699500</td>\n",
       "      <td>433.346364</td>\n",
       "      <td>47.798395</td>\n",
       "      <td>2014.318182</td>\n",
       "    </tr>\n",
       "    <tr>\n",
       "      <th>std</th>\n",
       "      <td>304.320363</td>\n",
       "      <td>51.740870</td>\n",
       "      <td>121.935100</td>\n",
       "      <td>186.779252</td>\n",
       "      <td>64.050885</td>\n",
       "      <td>303.760352</td>\n",
       "      <td>303.331822</td>\n",
       "      <td>264.366549</td>\n",
       "      <td>286.919755</td>\n",
       "      <td>273.996525</td>\n",
       "      <td>7.760806</td>\n",
       "      <td>0.762130</td>\n",
       "    </tr>\n",
       "    <tr>\n",
       "      <th>min</th>\n",
       "      <td>1.000000</td>\n",
       "      <td>1.000000</td>\n",
       "      <td>1.000000</td>\n",
       "      <td>1.000000</td>\n",
       "      <td>1.000000</td>\n",
       "      <td>1.000000</td>\n",
       "      <td>1.000000</td>\n",
       "      <td>1.000000</td>\n",
       "      <td>1.000000</td>\n",
       "      <td>1.000000</td>\n",
       "      <td>43.360000</td>\n",
       "      <td>2012.000000</td>\n",
       "    </tr>\n",
       "    <tr>\n",
       "      <th>25%</th>\n",
       "      <td>175.750000</td>\n",
       "      <td>6.000000</td>\n",
       "      <td>175.750000</td>\n",
       "      <td>175.750000</td>\n",
       "      <td>175.750000</td>\n",
       "      <td>175.750000</td>\n",
       "      <td>175.750000</td>\n",
       "      <td>161.000000</td>\n",
       "      <td>250.500000</td>\n",
       "      <td>170.750000</td>\n",
       "      <td>44.460000</td>\n",
       "      <td>2014.000000</td>\n",
       "    </tr>\n",
       "    <tr>\n",
       "      <th>50%</th>\n",
       "      <td>450.500000</td>\n",
       "      <td>21.000000</td>\n",
       "      <td>355.000000</td>\n",
       "      <td>450.500000</td>\n",
       "      <td>210.000000</td>\n",
       "      <td>450.500000</td>\n",
       "      <td>450.500000</td>\n",
       "      <td>406.000000</td>\n",
       "      <td>496.000000</td>\n",
       "      <td>426.000000</td>\n",
       "      <td>45.100000</td>\n",
       "      <td>2014.000000</td>\n",
       "    </tr>\n",
       "    <tr>\n",
       "      <th>75%</th>\n",
       "      <td>725.250000</td>\n",
       "      <td>49.000000</td>\n",
       "      <td>367.000000</td>\n",
       "      <td>478.000000</td>\n",
       "      <td>218.000000</td>\n",
       "      <td>725.000000</td>\n",
       "      <td>725.250000</td>\n",
       "      <td>645.000000</td>\n",
       "      <td>741.000000</td>\n",
       "      <td>714.250000</td>\n",
       "      <td>47.545000</td>\n",
       "      <td>2015.000000</td>\n",
       "    </tr>\n",
       "    <tr>\n",
       "      <th>max</th>\n",
       "      <td>1000.000000</td>\n",
       "      <td>229.000000</td>\n",
       "      <td>367.000000</td>\n",
       "      <td>567.000000</td>\n",
       "      <td>218.000000</td>\n",
       "      <td>1000.000000</td>\n",
       "      <td>991.000000</td>\n",
       "      <td>812.000000</td>\n",
       "      <td>1000.000000</td>\n",
       "      <td>871.000000</td>\n",
       "      <td>100.000000</td>\n",
       "      <td>2015.000000</td>\n",
       "    </tr>\n",
       "  </tbody>\n",
       "</table>\n",
       "</div>"
      ],
      "text/plain": [
       "       world_rank_CWUR  national_rank  quality_of_education_rank  \\\n",
       "count      2200.000000    2200.000000                2200.000000   \n",
       "mean        459.590909      40.278182                 275.100455   \n",
       "std         304.320363      51.740870                 121.935100   \n",
       "min           1.000000       1.000000                   1.000000   \n",
       "25%         175.750000       6.000000                 175.750000   \n",
       "50%         450.500000      21.000000                 355.000000   \n",
       "75%         725.250000      49.000000                 367.000000   \n",
       "max        1000.000000     229.000000                 367.000000   \n",
       "\n",
       "       alumni_employment_rank  quality_of_faculty_rank  publications_rank  \\\n",
       "count             2200.000000              2200.000000        2200.000000   \n",
       "mean               357.116818               178.888182         459.908636   \n",
       "std                186.779252                64.050885         303.760352   \n",
       "min                  1.000000                 1.000000           1.000000   \n",
       "25%                175.750000               175.750000         175.750000   \n",
       "50%                450.500000               210.000000         450.500000   \n",
       "75%                478.000000               218.000000         725.000000   \n",
       "max                567.000000               218.000000        1000.000000   \n",
       "\n",
       "       influence_rank  citations_rank  broad_impact_rank  patents_rank  \\\n",
       "count     2200.000000     2200.000000        2000.000000   2200.000000   \n",
       "mean       459.797727      413.417273         496.699500    433.346364   \n",
       "std        303.331822      264.366549         286.919755    273.996525   \n",
       "min          1.000000        1.000000           1.000000      1.000000   \n",
       "25%        175.750000      161.000000         250.500000    170.750000   \n",
       "50%        450.500000      406.000000         496.000000    426.000000   \n",
       "75%        725.250000      645.000000         741.000000    714.250000   \n",
       "max        991.000000      812.000000        1000.000000    871.000000   \n",
       "\n",
       "       overall_score_CWUR         year  \n",
       "count         2200.000000  2200.000000  \n",
       "mean            47.798395  2014.318182  \n",
       "std              7.760806     0.762130  \n",
       "min             43.360000  2012.000000  \n",
       "25%             44.460000  2014.000000  \n",
       "50%             45.100000  2014.000000  \n",
       "75%             47.545000  2015.000000  \n",
       "max            100.000000  2015.000000  "
      ]
     },
     "execution_count": 29,
     "metadata": {},
     "output_type": "execute_result"
    }
   ],
   "source": [
    "df_cwur.describe()"
   ]
  },
  {
   "cell_type": "markdown",
   "id": "e92be5f6",
   "metadata": {},
   "source": [
    "### Exporting the cleaned file"
   ]
  },
  {
   "cell_type": "code",
   "execution_count": 30,
   "id": "39a6fd36",
   "metadata": {},
   "outputs": [],
   "source": [
    "df_cwur.to_csv(os.path.join(path, '02 Data','Prepared Data', 'cwur_cleaned_final.csv'))"
   ]
  }
 ],
 "metadata": {
  "kernelspec": {
   "display_name": "Python 3 (ipykernel)",
   "language": "python",
   "name": "python3"
  },
  "language_info": {
   "codemirror_mode": {
    "name": "ipython",
    "version": 3
   },
   "file_extension": ".py",
   "mimetype": "text/x-python",
   "name": "python",
   "nbconvert_exporter": "python",
   "pygments_lexer": "ipython3",
   "version": "3.10.9"
  }
 },
 "nbformat": 4,
 "nbformat_minor": 5
}
