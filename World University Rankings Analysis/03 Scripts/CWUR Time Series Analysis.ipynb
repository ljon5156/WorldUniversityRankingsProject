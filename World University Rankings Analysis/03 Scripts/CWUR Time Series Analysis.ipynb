{
 "cells": [
  {
   "cell_type": "markdown",
   "id": "de1dc925",
   "metadata": {},
   "source": [
    "# CWUR Time Series Analysis"
   ]
  },
  {
   "cell_type": "markdown",
   "id": "277ae4be",
   "metadata": {},
   "source": [
    "## 1. Importing Libraries and Data"
   ]
  },
  {
   "cell_type": "code",
   "execution_count": 52,
   "id": "cf608200",
   "metadata": {},
   "outputs": [],
   "source": [
    "import quandl\n",
    "import pandas as pd\n",
    "import numpy as np\n",
    "import seaborn as sns\n",
    "import matplotlib\n",
    "import matplotlib.pyplot as plt\n",
    "import statsmodels.api as sm # Using .api imports the public access version of statsmodels, which is a library that handles \n",
    "# statistical models.\n",
    "import os\n",
    "import warnings # This is a library that handles warnings.\n",
    "\n",
    "warnings.filterwarnings(\"ignore\") # Disable deprecation warnings that could indicate, for instance, a suspended library or \n",
    "# feature. These are more relevant to developers and very seldom to analysts.\n",
    "\n",
    "plt.style.use('fivethirtyeight') # This is a styling option for how your plots will appear. More examples here:\n",
    "# https://matplotlib.org/3.2.1/tutorials/introductory/customizing.html\n",
    "# https://matplotlib.org/3.1.0/gallery/style_sheets/fivethirtyeight.html"
   ]
  },
  {
   "cell_type": "code",
   "execution_count": 53,
   "id": "173dcffa",
   "metadata": {},
   "outputs": [],
   "source": [
    "# Set path variable\n",
    "\n",
    "path = r'C:\\Users\\HP\\Documents\\CareerFoundry\\Data Immersion\\Achievement 6\\World University Rankings Analysis'"
   ]
  },
  {
   "cell_type": "code",
   "execution_count": 54,
   "id": "e29b5cee",
   "metadata": {},
   "outputs": [],
   "source": [
    "# Import dataset\n",
    "\n",
    "df_cwur = pd.read_csv(os.path.join(path, '02 Data', 'Prepared Data', 'cwur_top200.csv'))"
   ]
  },
  {
   "cell_type": "code",
   "execution_count": 55,
   "id": "c931769c",
   "metadata": {},
   "outputs": [
    {
     "data": {
      "text/html": [
       "<div>\n",
       "<style scoped>\n",
       "    .dataframe tbody tr th:only-of-type {\n",
       "        vertical-align: middle;\n",
       "    }\n",
       "\n",
       "    .dataframe tbody tr th {\n",
       "        vertical-align: top;\n",
       "    }\n",
       "\n",
       "    .dataframe thead th {\n",
       "        text-align: right;\n",
       "    }\n",
       "</style>\n",
       "<table border=\"1\" class=\"dataframe\">\n",
       "  <thead>\n",
       "    <tr style=\"text-align: right;\">\n",
       "      <th></th>\n",
       "      <th>Unnamed: 0</th>\n",
       "      <th>world_rank_CWUR</th>\n",
       "      <th>university_name</th>\n",
       "      <th>country</th>\n",
       "      <th>national_rank</th>\n",
       "      <th>quality_of_education_rank</th>\n",
       "      <th>alumni_employment_rank</th>\n",
       "      <th>quality_of_faculty_rank</th>\n",
       "      <th>publications_rank</th>\n",
       "      <th>influence_rank</th>\n",
       "      <th>citations_rank</th>\n",
       "      <th>broad_impact_rank</th>\n",
       "      <th>patents_rank</th>\n",
       "      <th>overall_score_CWUR</th>\n",
       "      <th>year</th>\n",
       "    </tr>\n",
       "  </thead>\n",
       "  <tbody>\n",
       "    <tr>\n",
       "      <th>0</th>\n",
       "      <td>0</td>\n",
       "      <td>1</td>\n",
       "      <td>Harvard University</td>\n",
       "      <td>United States of America</td>\n",
       "      <td>1</td>\n",
       "      <td>7</td>\n",
       "      <td>9</td>\n",
       "      <td>1</td>\n",
       "      <td>1</td>\n",
       "      <td>1</td>\n",
       "      <td>1</td>\n",
       "      <td>NaN</td>\n",
       "      <td>5</td>\n",
       "      <td>100.00</td>\n",
       "      <td>2012</td>\n",
       "    </tr>\n",
       "    <tr>\n",
       "      <th>1</th>\n",
       "      <td>1</td>\n",
       "      <td>2</td>\n",
       "      <td>Massachusetts Institute of Technology</td>\n",
       "      <td>United States of America</td>\n",
       "      <td>2</td>\n",
       "      <td>9</td>\n",
       "      <td>17</td>\n",
       "      <td>3</td>\n",
       "      <td>12</td>\n",
       "      <td>4</td>\n",
       "      <td>4</td>\n",
       "      <td>NaN</td>\n",
       "      <td>1</td>\n",
       "      <td>91.67</td>\n",
       "      <td>2012</td>\n",
       "    </tr>\n",
       "    <tr>\n",
       "      <th>2</th>\n",
       "      <td>2</td>\n",
       "      <td>3</td>\n",
       "      <td>Stanford University</td>\n",
       "      <td>United States of America</td>\n",
       "      <td>3</td>\n",
       "      <td>17</td>\n",
       "      <td>11</td>\n",
       "      <td>5</td>\n",
       "      <td>4</td>\n",
       "      <td>2</td>\n",
       "      <td>2</td>\n",
       "      <td>NaN</td>\n",
       "      <td>15</td>\n",
       "      <td>89.50</td>\n",
       "      <td>2012</td>\n",
       "    </tr>\n",
       "    <tr>\n",
       "      <th>3</th>\n",
       "      <td>3</td>\n",
       "      <td>4</td>\n",
       "      <td>University of Cambridge</td>\n",
       "      <td>United Kingdom</td>\n",
       "      <td>1</td>\n",
       "      <td>10</td>\n",
       "      <td>24</td>\n",
       "      <td>4</td>\n",
       "      <td>16</td>\n",
       "      <td>16</td>\n",
       "      <td>11</td>\n",
       "      <td>NaN</td>\n",
       "      <td>50</td>\n",
       "      <td>86.17</td>\n",
       "      <td>2012</td>\n",
       "    </tr>\n",
       "    <tr>\n",
       "      <th>4</th>\n",
       "      <td>4</td>\n",
       "      <td>5</td>\n",
       "      <td>California Institute of Technology</td>\n",
       "      <td>United States of America</td>\n",
       "      <td>4</td>\n",
       "      <td>2</td>\n",
       "      <td>29</td>\n",
       "      <td>7</td>\n",
       "      <td>37</td>\n",
       "      <td>22</td>\n",
       "      <td>22</td>\n",
       "      <td>NaN</td>\n",
       "      <td>18</td>\n",
       "      <td>85.21</td>\n",
       "      <td>2012</td>\n",
       "    </tr>\n",
       "    <tr>\n",
       "      <th>...</th>\n",
       "      <td>...</td>\n",
       "      <td>...</td>\n",
       "      <td>...</td>\n",
       "      <td>...</td>\n",
       "      <td>...</td>\n",
       "      <td>...</td>\n",
       "      <td>...</td>\n",
       "      <td>...</td>\n",
       "      <td>...</td>\n",
       "      <td>...</td>\n",
       "      <td>...</td>\n",
       "      <td>...</td>\n",
       "      <td>...</td>\n",
       "      <td>...</td>\n",
       "      <td>...</td>\n",
       "    </tr>\n",
       "    <tr>\n",
       "      <th>595</th>\n",
       "      <td>1395</td>\n",
       "      <td>196</td>\n",
       "      <td>University of Kansas</td>\n",
       "      <td>United States of America</td>\n",
       "      <td>85</td>\n",
       "      <td>228</td>\n",
       "      <td>91</td>\n",
       "      <td>218</td>\n",
       "      <td>212</td>\n",
       "      <td>161</td>\n",
       "      <td>161</td>\n",
       "      <td>235.0</td>\n",
       "      <td>127</td>\n",
       "      <td>47.52</td>\n",
       "      <td>2015</td>\n",
       "    </tr>\n",
       "    <tr>\n",
       "      <th>596</th>\n",
       "      <td>1396</td>\n",
       "      <td>197</td>\n",
       "      <td>University of Cologne</td>\n",
       "      <td>Germany</td>\n",
       "      <td>12</td>\n",
       "      <td>367</td>\n",
       "      <td>132</td>\n",
       "      <td>201</td>\n",
       "      <td>204</td>\n",
       "      <td>138</td>\n",
       "      <td>146</td>\n",
       "      <td>161.0</td>\n",
       "      <td>421</td>\n",
       "      <td>47.52</td>\n",
       "      <td>2015</td>\n",
       "    </tr>\n",
       "    <tr>\n",
       "      <th>597</th>\n",
       "      <td>1397</td>\n",
       "      <td>198</td>\n",
       "      <td>University of Georgia</td>\n",
       "      <td>United States of America</td>\n",
       "      <td>86</td>\n",
       "      <td>93</td>\n",
       "      <td>188</td>\n",
       "      <td>172</td>\n",
       "      <td>181</td>\n",
       "      <td>132</td>\n",
       "      <td>234</td>\n",
       "      <td>256.0</td>\n",
       "      <td>82</td>\n",
       "      <td>47.50</td>\n",
       "      <td>2015</td>\n",
       "    </tr>\n",
       "    <tr>\n",
       "      <th>598</th>\n",
       "      <td>1398</td>\n",
       "      <td>199</td>\n",
       "      <td>University of Liverpool</td>\n",
       "      <td>United Kingdom</td>\n",
       "      <td>15</td>\n",
       "      <td>176</td>\n",
       "      <td>179</td>\n",
       "      <td>207</td>\n",
       "      <td>154</td>\n",
       "      <td>172</td>\n",
       "      <td>128</td>\n",
       "      <td>174.0</td>\n",
       "      <td>377</td>\n",
       "      <td>47.49</td>\n",
       "      <td>2015</td>\n",
       "    </tr>\n",
       "    <tr>\n",
       "      <th>599</th>\n",
       "      <td>1399</td>\n",
       "      <td>200</td>\n",
       "      <td>University of Bern</td>\n",
       "      <td>Switzerland</td>\n",
       "      <td>7</td>\n",
       "      <td>184</td>\n",
       "      <td>526</td>\n",
       "      <td>213</td>\n",
       "      <td>163</td>\n",
       "      <td>128</td>\n",
       "      <td>93</td>\n",
       "      <td>159.0</td>\n",
       "      <td>433</td>\n",
       "      <td>47.49</td>\n",
       "      <td>2015</td>\n",
       "    </tr>\n",
       "  </tbody>\n",
       "</table>\n",
       "<p>600 rows × 15 columns</p>\n",
       "</div>"
      ],
      "text/plain": [
       "     Unnamed: 0  world_rank_CWUR                        university_name  \\\n",
       "0             0                1                     Harvard University   \n",
       "1             1                2  Massachusetts Institute of Technology   \n",
       "2             2                3                    Stanford University   \n",
       "3             3                4                University of Cambridge   \n",
       "4             4                5     California Institute of Technology   \n",
       "..          ...              ...                                    ...   \n",
       "595        1395              196                   University of Kansas   \n",
       "596        1396              197                  University of Cologne   \n",
       "597        1397              198                  University of Georgia   \n",
       "598        1398              199                University of Liverpool   \n",
       "599        1399              200                     University of Bern   \n",
       "\n",
       "                      country  national_rank  quality_of_education_rank  \\\n",
       "0    United States of America              1                          7   \n",
       "1    United States of America              2                          9   \n",
       "2    United States of America              3                         17   \n",
       "3              United Kingdom              1                         10   \n",
       "4    United States of America              4                          2   \n",
       "..                        ...            ...                        ...   \n",
       "595  United States of America             85                        228   \n",
       "596                   Germany             12                        367   \n",
       "597  United States of America             86                         93   \n",
       "598            United Kingdom             15                        176   \n",
       "599               Switzerland              7                        184   \n",
       "\n",
       "     alumni_employment_rank  quality_of_faculty_rank  publications_rank  \\\n",
       "0                         9                        1                  1   \n",
       "1                        17                        3                 12   \n",
       "2                        11                        5                  4   \n",
       "3                        24                        4                 16   \n",
       "4                        29                        7                 37   \n",
       "..                      ...                      ...                ...   \n",
       "595                      91                      218                212   \n",
       "596                     132                      201                204   \n",
       "597                     188                      172                181   \n",
       "598                     179                      207                154   \n",
       "599                     526                      213                163   \n",
       "\n",
       "     influence_rank  citations_rank  broad_impact_rank  patents_rank  \\\n",
       "0                 1               1                NaN             5   \n",
       "1                 4               4                NaN             1   \n",
       "2                 2               2                NaN            15   \n",
       "3                16              11                NaN            50   \n",
       "4                22              22                NaN            18   \n",
       "..              ...             ...                ...           ...   \n",
       "595             161             161              235.0           127   \n",
       "596             138             146              161.0           421   \n",
       "597             132             234              256.0            82   \n",
       "598             172             128              174.0           377   \n",
       "599             128              93              159.0           433   \n",
       "\n",
       "     overall_score_CWUR  year  \n",
       "0                100.00  2012  \n",
       "1                 91.67  2012  \n",
       "2                 89.50  2012  \n",
       "3                 86.17  2012  \n",
       "4                 85.21  2012  \n",
       "..                  ...   ...  \n",
       "595               47.52  2015  \n",
       "596               47.52  2015  \n",
       "597               47.50  2015  \n",
       "598               47.49  2015  \n",
       "599               47.49  2015  \n",
       "\n",
       "[600 rows x 15 columns]"
      ]
     },
     "execution_count": 55,
     "metadata": {},
     "output_type": "execute_result"
    }
   ],
   "source": [
    "# Check to see if it was imported correctly\n",
    "\n",
    "df_cwur"
   ]
  },
  {
   "cell_type": "markdown",
   "id": "89e58f64",
   "metadata": {},
   "source": [
    "## 2. Data Wrangling, Cleaning, and Subsetting"
   ]
  },
  {
   "cell_type": "code",
   "execution_count": 56,
   "id": "75ab34e4",
   "metadata": {},
   "outputs": [],
   "source": [
    "# Removing the 'Unnamed: 0' column\n",
    "\n",
    "df_cwur = df_cwur.drop(columns = ['Unnamed: 0'])"
   ]
  },
  {
   "cell_type": "code",
   "execution_count": 57,
   "id": "218ad5e7",
   "metadata": {},
   "outputs": [
    {
     "data": {
      "text/plain": [
       "world_rank_CWUR                int64\n",
       "university_name               object\n",
       "country                       object\n",
       "national_rank                  int64\n",
       "quality_of_education_rank      int64\n",
       "alumni_employment_rank         int64\n",
       "quality_of_faculty_rank        int64\n",
       "publications_rank              int64\n",
       "influence_rank                 int64\n",
       "citations_rank                 int64\n",
       "broad_impact_rank            float64\n",
       "patents_rank                   int64\n",
       "overall_score_CWUR           float64\n",
       "year                           int64\n",
       "dtype: object"
      ]
     },
     "execution_count": 57,
     "metadata": {},
     "output_type": "execute_result"
    }
   ],
   "source": [
    "df_cwur.dtypes"
   ]
  },
  {
   "cell_type": "code",
   "execution_count": 58,
   "id": "62db9362",
   "metadata": {},
   "outputs": [],
   "source": [
    "# Create a subset with only relevant numerical columns, grouped by 'year' and 'country' columns first\n",
    "\n",
    "df_cwur_sub1 = df_cwur.groupby(['year', 'country'], as_index=False)[['country',\n",
    "                                         'world_rank_CWUR', \n",
    "                                         'quality_of_education_rank',\n",
    "                                         'alumni_employment_rank',\n",
    "                                         'quality_of_faculty_rank',\n",
    "                                         'publications_rank',\n",
    "                                         'influence_rank',\n",
    "                                         'citations_rank',\n",
    "                                         'broad_impact_rank',\n",
    "                                         'patents_rank']].mean()"
   ]
  },
  {
   "cell_type": "code",
   "execution_count": 59,
   "id": "eb8057ac",
   "metadata": {},
   "outputs": [
    {
     "data": {
      "text/html": [
       "<div>\n",
       "<style scoped>\n",
       "    .dataframe tbody tr th:only-of-type {\n",
       "        vertical-align: middle;\n",
       "    }\n",
       "\n",
       "    .dataframe tbody tr th {\n",
       "        vertical-align: top;\n",
       "    }\n",
       "\n",
       "    .dataframe thead th {\n",
       "        text-align: right;\n",
       "    }\n",
       "</style>\n",
       "<table border=\"1\" class=\"dataframe\">\n",
       "  <thead>\n",
       "    <tr style=\"text-align: right;\">\n",
       "      <th></th>\n",
       "      <th>year</th>\n",
       "      <th>country</th>\n",
       "      <th>world_rank_CWUR</th>\n",
       "      <th>quality_of_education_rank</th>\n",
       "      <th>alumni_employment_rank</th>\n",
       "      <th>quality_of_faculty_rank</th>\n",
       "      <th>publications_rank</th>\n",
       "      <th>influence_rank</th>\n",
       "      <th>citations_rank</th>\n",
       "      <th>broad_impact_rank</th>\n",
       "      <th>patents_rank</th>\n",
       "    </tr>\n",
       "  </thead>\n",
       "  <tbody>\n",
       "    <tr>\n",
       "      <th>0</th>\n",
       "      <td>2012</td>\n",
       "      <td>Australia</td>\n",
       "      <td>93.000000</td>\n",
       "      <td>101.000000</td>\n",
       "      <td>101.000000</td>\n",
       "      <td>101.000000</td>\n",
       "      <td>61.500000</td>\n",
       "      <td>91.000000</td>\n",
       "      <td>87.000000</td>\n",
       "      <td>NaN</td>\n",
       "      <td>57.5</td>\n",
       "    </tr>\n",
       "    <tr>\n",
       "      <th>1</th>\n",
       "      <td>2012</td>\n",
       "      <td>Canada</td>\n",
       "      <td>47.666667</td>\n",
       "      <td>90.666667</td>\n",
       "      <td>97.666667</td>\n",
       "      <td>60.333333</td>\n",
       "      <td>22.666667</td>\n",
       "      <td>30.333333</td>\n",
       "      <td>37.666667</td>\n",
       "      <td>NaN</td>\n",
       "      <td>101.0</td>\n",
       "    </tr>\n",
       "    <tr>\n",
       "      <th>2</th>\n",
       "      <td>2012</td>\n",
       "      <td>Denmark</td>\n",
       "      <td>93.000000</td>\n",
       "      <td>101.000000</td>\n",
       "      <td>101.000000</td>\n",
       "      <td>60.000000</td>\n",
       "      <td>85.000000</td>\n",
       "      <td>66.000000</td>\n",
       "      <td>101.000000</td>\n",
       "      <td>NaN</td>\n",
       "      <td>101.0</td>\n",
       "    </tr>\n",
       "    <tr>\n",
       "      <th>3</th>\n",
       "      <td>2012</td>\n",
       "      <td>Finland</td>\n",
       "      <td>89.000000</td>\n",
       "      <td>96.000000</td>\n",
       "      <td>101.000000</td>\n",
       "      <td>79.000000</td>\n",
       "      <td>62.000000</td>\n",
       "      <td>64.000000</td>\n",
       "      <td>54.000000</td>\n",
       "      <td>NaN</td>\n",
       "      <td>101.0</td>\n",
       "    </tr>\n",
       "    <tr>\n",
       "      <th>4</th>\n",
       "      <td>2012</td>\n",
       "      <td>France</td>\n",
       "      <td>65.200000</td>\n",
       "      <td>39.200000</td>\n",
       "      <td>54.000000</td>\n",
       "      <td>77.600000</td>\n",
       "      <td>82.400000</td>\n",
       "      <td>90.400000</td>\n",
       "      <td>96.400000</td>\n",
       "      <td>NaN</td>\n",
       "      <td>101.0</td>\n",
       "    </tr>\n",
       "  </tbody>\n",
       "</table>\n",
       "</div>"
      ],
      "text/plain": [
       "   year    country  world_rank_CWUR  quality_of_education_rank  \\\n",
       "0  2012  Australia        93.000000                 101.000000   \n",
       "1  2012     Canada        47.666667                  90.666667   \n",
       "2  2012    Denmark        93.000000                 101.000000   \n",
       "3  2012    Finland        89.000000                  96.000000   \n",
       "4  2012     France        65.200000                  39.200000   \n",
       "\n",
       "   alumni_employment_rank  quality_of_faculty_rank  publications_rank  \\\n",
       "0              101.000000               101.000000          61.500000   \n",
       "1               97.666667                60.333333          22.666667   \n",
       "2              101.000000                60.000000          85.000000   \n",
       "3              101.000000                79.000000          62.000000   \n",
       "4               54.000000                77.600000          82.400000   \n",
       "\n",
       "   influence_rank  citations_rank  broad_impact_rank  patents_rank  \n",
       "0       91.000000       87.000000                NaN          57.5  \n",
       "1       30.333333       37.666667                NaN         101.0  \n",
       "2       66.000000      101.000000                NaN         101.0  \n",
       "3       64.000000       54.000000                NaN         101.0  \n",
       "4       90.400000       96.400000                NaN         101.0  "
      ]
     },
     "execution_count": 59,
     "metadata": {},
     "output_type": "execute_result"
    }
   ],
   "source": [
    "df_cwur_sub1.head()"
   ]
  },
  {
   "cell_type": "code",
   "execution_count": 60,
   "id": "ccddff9e",
   "metadata": {},
   "outputs": [
    {
     "data": {
      "text/plain": [
       "(86, 11)"
      ]
     },
     "execution_count": 60,
     "metadata": {},
     "output_type": "execute_result"
    }
   ],
   "source": [
    "df_cwur_sub1.shape"
   ]
  },
  {
   "cell_type": "code",
   "execution_count": 61,
   "id": "26e1ad45",
   "metadata": {},
   "outputs": [],
   "source": [
    "# Create a further subset that just includes the year, country, and world ranking columns\n",
    "\n",
    "df_cwur_timerank = df_cwur_sub1[['year', 'country', 'world_rank_CWUR']]"
   ]
  },
  {
   "cell_type": "code",
   "execution_count": 62,
   "id": "eeb34d9f",
   "metadata": {},
   "outputs": [
    {
     "data": {
      "text/html": [
       "<div>\n",
       "<style scoped>\n",
       "    .dataframe tbody tr th:only-of-type {\n",
       "        vertical-align: middle;\n",
       "    }\n",
       "\n",
       "    .dataframe tbody tr th {\n",
       "        vertical-align: top;\n",
       "    }\n",
       "\n",
       "    .dataframe thead th {\n",
       "        text-align: right;\n",
       "    }\n",
       "</style>\n",
       "<table border=\"1\" class=\"dataframe\">\n",
       "  <thead>\n",
       "    <tr style=\"text-align: right;\">\n",
       "      <th></th>\n",
       "      <th>year</th>\n",
       "      <th>country</th>\n",
       "      <th>world_rank_CWUR</th>\n",
       "    </tr>\n",
       "  </thead>\n",
       "  <tbody>\n",
       "    <tr>\n",
       "      <th>15</th>\n",
       "      <td>2012</td>\n",
       "      <td>United States of America</td>\n",
       "      <td>42.396552</td>\n",
       "    </tr>\n",
       "    <tr>\n",
       "      <th>33</th>\n",
       "      <td>2013</td>\n",
       "      <td>United States of America</td>\n",
       "      <td>43.807018</td>\n",
       "    </tr>\n",
       "    <tr>\n",
       "      <th>59</th>\n",
       "      <td>2014</td>\n",
       "      <td>United States of America</td>\n",
       "      <td>81.894118</td>\n",
       "    </tr>\n",
       "    <tr>\n",
       "      <th>85</th>\n",
       "      <td>2015</td>\n",
       "      <td>United States of America</td>\n",
       "      <td>83.034884</td>\n",
       "    </tr>\n",
       "  </tbody>\n",
       "</table>\n",
       "</div>"
      ],
      "text/plain": [
       "    year                   country  world_rank_CWUR\n",
       "15  2012  United States of America        42.396552\n",
       "33  2013  United States of America        43.807018\n",
       "59  2014  United States of America        81.894118\n",
       "85  2015  United States of America        83.034884"
      ]
     },
     "execution_count": 62,
     "metadata": {},
     "output_type": "execute_result"
    }
   ],
   "source": [
    "# Create a subset that only includes universities from the USA\n",
    "\n",
    "df_cwur_USA = df_cwur_timerank.loc[df_cwur_timerank['country'] == 'United States of America']\n",
    "\n",
    "df_cwur_USA"
   ]
  },
  {
   "cell_type": "code",
   "execution_count": 63,
   "id": "77388776",
   "metadata": {},
   "outputs": [],
   "source": [
    "# Drop the 'country' column since it is unnecessary now\n",
    "\n",
    "df_cwur_USA = df_cwur_USA.drop(columns = ['country'])"
   ]
  },
  {
   "cell_type": "code",
   "execution_count": 64,
   "id": "54713186",
   "metadata": {},
   "outputs": [
    {
     "data": {
      "text/html": [
       "<div>\n",
       "<style scoped>\n",
       "    .dataframe tbody tr th:only-of-type {\n",
       "        vertical-align: middle;\n",
       "    }\n",
       "\n",
       "    .dataframe tbody tr th {\n",
       "        vertical-align: top;\n",
       "    }\n",
       "\n",
       "    .dataframe thead th {\n",
       "        text-align: right;\n",
       "    }\n",
       "</style>\n",
       "<table border=\"1\" class=\"dataframe\">\n",
       "  <thead>\n",
       "    <tr style=\"text-align: right;\">\n",
       "      <th></th>\n",
       "      <th>world_rank_CWUR</th>\n",
       "    </tr>\n",
       "    <tr>\n",
       "      <th>datetime</th>\n",
       "      <th></th>\n",
       "    </tr>\n",
       "  </thead>\n",
       "  <tbody>\n",
       "    <tr>\n",
       "      <th>2012-01-01</th>\n",
       "      <td>42.396552</td>\n",
       "    </tr>\n",
       "    <tr>\n",
       "      <th>2013-01-01</th>\n",
       "      <td>43.807018</td>\n",
       "    </tr>\n",
       "    <tr>\n",
       "      <th>2014-01-01</th>\n",
       "      <td>81.894118</td>\n",
       "    </tr>\n",
       "    <tr>\n",
       "      <th>2015-01-01</th>\n",
       "      <td>83.034884</td>\n",
       "    </tr>\n",
       "  </tbody>\n",
       "</table>\n",
       "</div>"
      ],
      "text/plain": [
       "            world_rank_CWUR\n",
       "datetime                   \n",
       "2012-01-01        42.396552\n",
       "2013-01-01        43.807018\n",
       "2014-01-01        81.894118\n",
       "2015-01-01        83.034884"
      ]
     },
     "execution_count": 64,
     "metadata": {},
     "output_type": "execute_result"
    }
   ],
   "source": [
    "# Set the \"year\" column as the index\n",
    "\n",
    "from datetime import date\n",
    "\n",
    "df_cwur_USA['datetime'] = pd.to_datetime(df_cwur_USA['year'], format='%Y') # Create a datetime column from \"year.\"\"\n",
    "df_cwur_USA = df_cwur_USA.set_index('datetime') # Set the datetime as the index of the dataframe.\n",
    "df_cwur_USA.drop(['year'], axis=1, inplace=True) # Drop the \"year\" column.\n",
    "df_cwur_USA.head()"
   ]
  },
  {
   "cell_type": "markdown",
   "id": "0f15c3b7",
   "metadata": {},
   "source": [
    "## 3. Create a line chart of the data"
   ]
  },
  {
   "cell_type": "code",
   "execution_count": 65,
   "id": "f97c74bc",
   "metadata": {},
   "outputs": [
    {
     "data": {
      "text/plain": [
       "[<matplotlib.lines.Line2D at 0x25d85cfa260>]"
      ]
     },
     "execution_count": 65,
     "metadata": {},
     "output_type": "execute_result"
    },
    {
     "data": {
      "image/png": "[encoded data removed]",
      "text/plain": [
       "<Figure size 1500x500 with 1 Axes>"
      ]
     },
     "metadata": {},
     "output_type": "display_data"
    }
   ],
   "source": [
    "# Plot the new data set\n",
    "\n",
    "plt.figure(figsize=(15,5), dpi=100)\n",
    "plt.plot(df_cwur_USA)"
   ]
  },
  {
   "cell_type": "markdown",
   "id": "edc5b86e",
   "metadata": {},
   "source": [
    "Due to the small number of years available in the data, the line chart for the average world rankings of American Universities seems rather simplistic. There is a notable increase from 2013 to 2014, but this is likely due to the fact that the data only included universities from the top 100 universities in 2012 and 2013, whereas data from 2014 and 2015 included top 200 universities which could have increased the average rankings. The USA is still consistent and has the largest amount of top universities out of all countries by a large margin. "
   ]
  },
  {
   "cell_type": "markdown",
   "id": "ce918cb7",
   "metadata": {},
   "source": [
    "## 4. Decompose the data's components"
   ]
  },
  {
   "cell_type": "code",
   "execution_count": 66,
   "id": "7619bce5",
   "metadata": {},
   "outputs": [],
   "source": [
    "# Decompose the time series using an additive model\n",
    "\n",
    "decomposition = sm.tsa.seasonal_decompose(df_cwur_USA, model='additive')"
   ]
  },
  {
   "cell_type": "code",
   "execution_count": 67,
   "id": "557cb477",
   "metadata": {},
   "outputs": [],
   "source": [
    "from pylab import rcParams # This will define a fixed size for all special charts.\n",
    "\n",
    "rcParams['figure.figsize'] = 18, 7"
   ]
  },
  {
   "cell_type": "code",
   "execution_count": 68,
   "id": "8be3dfa2",
   "metadata": {},
   "outputs": [
    {
     "data": {
      "image/png": "[encoded data removed]",
      "text/plain": [
       "<Figure size 1800x700 with 4 Axes>"
      ]
     },
     "metadata": {},
     "output_type": "display_data"
    }
   ],
   "source": [
    "# Plot the separate components\n",
    "\n",
    "decomposition.plot()\n",
    "plt.show()"
   ]
  },
  {
   "cell_type": "markdown",
   "id": "ce2d064f",
   "metadata": {},
   "source": [
    "There is a positive trend even though it looks like more of a jump in the graph. There is a very small increase in ranking from 2012 to 2013 and a similar small increase from 2014 to 2015. There appears to be no seasonality and no residual noise. The data looks to be non-stationary due to the overall positive trend but may not be reliable due to the lack of time data points. "
   ]
  },
  {
   "cell_type": "markdown",
   "id": "d91422de",
   "metadata": {},
   "source": [
    "## 5. Conduct a Dickey-Fuller Test to check for stationarity. Interpret the results and reference your null hypothesis."
   ]
  },
  {
   "cell_type": "code",
   "execution_count": 69,
   "id": "79c6cec7",
   "metadata": {},
   "outputs": [
    {
     "name": "stdout",
     "output_type": "stream",
     "text": [
      "Dickey-Fuller Stationarity test:\n",
      "Test Statistic                 -0.544312\n",
      "p-value                         0.883075\n",
      "Number of Lags Used             0.000000\n",
      "Number of Observations Used     3.000000\n",
      "Critical Value (1%)           -10.417191\n",
      "Critical Value (5%)            -5.778381\n",
      "Critical Value (10%)           -3.391681\n",
      "dtype: float64\n"
     ]
    }
   ],
   "source": [
    "# The adfuller() function will import from the model from statsmodels for the test; however, running it will only return \n",
    "# an array of numbers. This is why you need to also define a function that prints the correct output from that array.\n",
    "\n",
    "from statsmodels.tsa.stattools import adfuller # Import the adfuller() function\n",
    "\n",
    "def dickey_fuller(timeseries): # Define the function\n",
    "    # Perform the Dickey-Fuller test:\n",
    "    print ('Dickey-Fuller Stationarity test:')\n",
    "    test = adfuller(timeseries, autolag='AIC')\n",
    "    result = pd.Series(test[0:4], index=['Test Statistic','p-value','Number of Lags Used','Number of Observations Used'])\n",
    "    for key,value in test[4].items():\n",
    "       result['Critical Value (%s)'%key] = value\n",
    "    print (result)\n",
    "\n",
    "# Apply the test using the function on the time series\n",
    "dickey_fuller(df_cwur_USA['world_rank_CWUR'])"
   ]
  },
  {
   "cell_type": "markdown",
   "id": "68e03e54",
   "metadata": {},
   "source": [
    "Test Statistic: -0.544\n",
    "5% Critical Value: -5.778\n",
    "\n",
    "Because the Test Statistic is greater than the Critical Value, the null hypothesis cannot be rejected. There is a unit root in the data and the data is non-stationary. "
   ]
  },
  {
   "cell_type": "markdown",
   "id": "0d7f8083",
   "metadata": {},
   "source": [
    "## 6. Conduct a round of differencing on the data and repeat the check."
   ]
  },
  {
   "cell_type": "code",
   "execution_count": 70,
   "id": "815a0a19",
   "metadata": {},
   "outputs": [],
   "source": [
    "# The df.shift(1) function turns the observation to t-1, making the whole thing t - (t -1)\n",
    "\n",
    "df_cwur_USA_diff = df_cwur_USA - df_cwur_USA.shift(1)"
   ]
  },
  {
   "cell_type": "code",
   "execution_count": 71,
   "id": "2d46242f",
   "metadata": {},
   "outputs": [],
   "source": [
    "# Remove the missing values in order to run the Dickey-Fuller test. \n",
    "\n",
    "df_cwur_USA_diff.dropna(inplace = True)"
   ]
  },
  {
   "cell_type": "code",
   "execution_count": 72,
   "id": "3e5fecef",
   "metadata": {},
   "outputs": [
    {
     "data": {
      "text/html": [
       "<div>\n",
       "<style scoped>\n",
       "    .dataframe tbody tr th:only-of-type {\n",
       "        vertical-align: middle;\n",
       "    }\n",
       "\n",
       "    .dataframe tbody tr th {\n",
       "        vertical-align: top;\n",
       "    }\n",
       "\n",
       "    .dataframe thead th {\n",
       "        text-align: right;\n",
       "    }\n",
       "</style>\n",
       "<table border=\"1\" class=\"dataframe\">\n",
       "  <thead>\n",
       "    <tr style=\"text-align: right;\">\n",
       "      <th></th>\n",
       "      <th>world_rank_CWUR</th>\n",
       "    </tr>\n",
       "    <tr>\n",
       "      <th>datetime</th>\n",
       "      <th></th>\n",
       "    </tr>\n",
       "  </thead>\n",
       "  <tbody>\n",
       "    <tr>\n",
       "      <th>2013-01-01</th>\n",
       "      <td>1.410466</td>\n",
       "    </tr>\n",
       "    <tr>\n",
       "      <th>2014-01-01</th>\n",
       "      <td>38.087100</td>\n",
       "    </tr>\n",
       "    <tr>\n",
       "      <th>2015-01-01</th>\n",
       "      <td>1.140766</td>\n",
       "    </tr>\n",
       "  </tbody>\n",
       "</table>\n",
       "</div>"
      ],
      "text/plain": [
       "            world_rank_CWUR\n",
       "datetime                   \n",
       "2013-01-01         1.410466\n",
       "2014-01-01        38.087100\n",
       "2015-01-01         1.140766"
      ]
     },
     "execution_count": 72,
     "metadata": {},
     "output_type": "execute_result"
    }
   ],
   "source": [
    "df_cwur_USA_diff.head()"
   ]
  },
  {
   "cell_type": "code",
   "execution_count": 73,
   "id": "603f54cc",
   "metadata": {},
   "outputs": [
    {
     "data": {
      "text/plain": [
       "[<matplotlib.lines.Line2D at 0x25d85e8e500>]"
      ]
     },
     "execution_count": 73,
     "metadata": {},
     "output_type": "execute_result"
    },
    {
     "data": {
      "image/png": "[encoded data removed]",
      "text/plain": [
       "<Figure size 1500x500 with 1 Axes>"
      ]
     },
     "metadata": {},
     "output_type": "display_data"
    }
   ],
   "source": [
    "# Check out what the differencing did to the time-series curve\n",
    "\n",
    "plt.figure(figsize=(15,5), dpi=100)\n",
    "plt.plot(df_cwur_USA_diff)"
   ]
  },
  {
   "cell_type": "code",
   "execution_count": 74,
   "id": "ec868caf",
   "metadata": {
    "scrolled": true
   },
   "outputs": [
    {
     "name": "stdout",
     "output_type": "stream",
     "text": [
      "Dickey-Fuller Stationarity test:\n"
     ]
    },
    {
     "ename": "ValueError",
     "evalue": "sample size is too short to use selected regression component",
     "output_type": "error",
     "traceback": [
      "\u001b[1;31m---------------------------------------------------------------------------\u001b[0m",
      "\u001b[1;31mValueError\u001b[0m                                Traceback (most recent call last)",
      "Cell \u001b[1;32mIn[74], line 1\u001b[0m\n\u001b[1;32m----> 1\u001b[0m \u001b[43mdickey_fuller\u001b[49m\u001b[43m(\u001b[49m\u001b[43mdf_cwur_USA_diff\u001b[49m\u001b[43m)\u001b[49m\n",
      "Cell \u001b[1;32mIn[69], line 9\u001b[0m, in \u001b[0;36mdickey_fuller\u001b[1;34m(timeseries)\u001b[0m\n\u001b[0;32m      6\u001b[0m \u001b[38;5;28;01mdef\u001b[39;00m \u001b[38;5;21mdickey_fuller\u001b[39m(timeseries): \u001b[38;5;66;03m# Define the function\u001b[39;00m\n\u001b[0;32m      7\u001b[0m     \u001b[38;5;66;03m# Perform the Dickey-Fuller test:\u001b[39;00m\n\u001b[0;32m      8\u001b[0m     \u001b[38;5;28mprint\u001b[39m (\u001b[38;5;124m'\u001b[39m\u001b[38;5;124mDickey-Fuller Stationarity test:\u001b[39m\u001b[38;5;124m'\u001b[39m)\n\u001b[1;32m----> 9\u001b[0m     test \u001b[38;5;241m=\u001b[39m \u001b[43madfuller\u001b[49m\u001b[43m(\u001b[49m\u001b[43mtimeseries\u001b[49m\u001b[43m,\u001b[49m\u001b[43m \u001b[49m\u001b[43mautolag\u001b[49m\u001b[38;5;241;43m=\u001b[39;49m\u001b[38;5;124;43m'\u001b[39;49m\u001b[38;5;124;43mAIC\u001b[39;49m\u001b[38;5;124;43m'\u001b[39;49m\u001b[43m)\u001b[49m\n\u001b[0;32m     10\u001b[0m     result \u001b[38;5;241m=\u001b[39m pd\u001b[38;5;241m.\u001b[39mSeries(test[\u001b[38;5;241m0\u001b[39m:\u001b[38;5;241m4\u001b[39m], index\u001b[38;5;241m=\u001b[39m[\u001b[38;5;124m'\u001b[39m\u001b[38;5;124mTest Statistic\u001b[39m\u001b[38;5;124m'\u001b[39m,\u001b[38;5;124m'\u001b[39m\u001b[38;5;124mp-value\u001b[39m\u001b[38;5;124m'\u001b[39m,\u001b[38;5;124m'\u001b[39m\u001b[38;5;124mNumber of Lags Used\u001b[39m\u001b[38;5;124m'\u001b[39m,\u001b[38;5;124m'\u001b[39m\u001b[38;5;124mNumber of Observations Used\u001b[39m\u001b[38;5;124m'\u001b[39m])\n\u001b[0;32m     11\u001b[0m     \u001b[38;5;28;01mfor\u001b[39;00m key,value \u001b[38;5;129;01min\u001b[39;00m test[\u001b[38;5;241m4\u001b[39m]\u001b[38;5;241m.\u001b[39mitems():\n",
      "File \u001b[1;32m~\\anaconda3\\lib\\site-packages\\statsmodels\\tsa\\stattools.py:288\u001b[0m, in \u001b[0;36madfuller\u001b[1;34m(x, maxlag, regression, autolag, store, regresults)\u001b[0m\n\u001b[0;32m    286\u001b[0m     maxlag \u001b[38;5;241m=\u001b[39m \u001b[38;5;28mmin\u001b[39m(nobs \u001b[38;5;241m/\u001b[39m\u001b[38;5;241m/\u001b[39m \u001b[38;5;241m2\u001b[39m \u001b[38;5;241m-\u001b[39m ntrend \u001b[38;5;241m-\u001b[39m \u001b[38;5;241m1\u001b[39m, maxlag)\n\u001b[0;32m    287\u001b[0m     \u001b[38;5;28;01mif\u001b[39;00m maxlag \u001b[38;5;241m<\u001b[39m \u001b[38;5;241m0\u001b[39m:\n\u001b[1;32m--> 288\u001b[0m         \u001b[38;5;28;01mraise\u001b[39;00m \u001b[38;5;167;01mValueError\u001b[39;00m(\n\u001b[0;32m    289\u001b[0m             \u001b[38;5;124m\"\u001b[39m\u001b[38;5;124msample size is too short to use selected \u001b[39m\u001b[38;5;124m\"\u001b[39m\n\u001b[0;32m    290\u001b[0m             \u001b[38;5;124m\"\u001b[39m\u001b[38;5;124mregression component\u001b[39m\u001b[38;5;124m\"\u001b[39m\n\u001b[0;32m    291\u001b[0m         )\n\u001b[0;32m    292\u001b[0m \u001b[38;5;28;01melif\u001b[39;00m maxlag \u001b[38;5;241m>\u001b[39m nobs \u001b[38;5;241m/\u001b[39m\u001b[38;5;241m/\u001b[39m \u001b[38;5;241m2\u001b[39m \u001b[38;5;241m-\u001b[39m ntrend \u001b[38;5;241m-\u001b[39m \u001b[38;5;241m1\u001b[39m:\n\u001b[0;32m    293\u001b[0m     \u001b[38;5;28;01mraise\u001b[39;00m \u001b[38;5;167;01mValueError\u001b[39;00m(\n\u001b[0;32m    294\u001b[0m         \u001b[38;5;124m\"\u001b[39m\u001b[38;5;124mmaxlag must be less than (nobs/2 - 1 - ntrend) \u001b[39m\u001b[38;5;124m\"\u001b[39m\n\u001b[0;32m    295\u001b[0m         \u001b[38;5;124m\"\u001b[39m\u001b[38;5;124mwhere n trend is the number of included \u001b[39m\u001b[38;5;124m\"\u001b[39m\n\u001b[0;32m    296\u001b[0m         \u001b[38;5;124m\"\u001b[39m\u001b[38;5;124mdeterministic regressors\u001b[39m\u001b[38;5;124m\"\u001b[39m\n\u001b[0;32m    297\u001b[0m     )\n",
      "\u001b[1;31mValueError\u001b[0m: sample size is too short to use selected regression component"
     ]
    }
   ],
   "source": [
    "dickey_fuller(df_cwur_USA_diff)"
   ]
  },
  {
   "cell_type": "markdown",
   "id": "eb3a452e",
   "metadata": {},
   "source": [
    "The above error shows that the dataframe is simply too small to undergo the Dickey-Fuller test. Unfortunately, time series analysis cannot be completed on this dataframe. "
   ]
  },
  {
   "cell_type": "markdown",
   "id": "b7ea3eca",
   "metadata": {},
   "source": [
    "## 7. Check out the data's autocorrelations"
   ]
  },
  {
   "cell_type": "code",
   "execution_count": 77,
   "id": "cd619972",
   "metadata": {},
   "outputs": [
    {
     "data": {
      "image/png": "[encoded data removed]",
      "text/plain": [
       "<Figure size 1800x700 with 1 Axes>"
      ]
     },
     "metadata": {},
     "output_type": "display_data"
    }
   ],
   "source": [
    "# Check out a plot of autocorrelations\n",
    "\n",
    "from statsmodels.graphics.tsaplots import plot_acf, plot_pacf # Here, you import the autocorrelation and partial correlation plots\n",
    "\n",
    "plot_acf(df_cwur_USA)\n",
    "plt.show()"
   ]
  },
  {
   "cell_type": "markdown",
   "id": "46482dc8",
   "metadata": {},
   "source": [
    "There is only one line that it out of bounds of the confidence interval, which indicates that the data is not correlated with each other and is stationary. However, this is likely due to the fact that there are only 5 datapoints, so this autocorrelation graph may not be very accurate. "
   ]
  },
  {
   "cell_type": "markdown",
   "id": "5d5c0c3e",
   "metadata": {},
   "source": [
    "## 8. Final steps (saving files)"
   ]
  },
  {
   "cell_type": "code",
   "execution_count": 76,
   "id": "dec83431",
   "metadata": {},
   "outputs": [],
   "source": [
    "# Export the aggregate dataframe of world rankings since it could possibly be useful in the future\n",
    "\n",
    "df_cwur_timerank.to_csv(os.path.join(path, '02 Data', 'Prepared Data', 'cwur_top200_timecountrygrouped.csv'))"
   ]
  },
  {
   "cell_type": "code",
   "execution_count": null,
   "id": "dbdffab8",
   "metadata": {},
   "outputs": [],
   "source": []
  }
 ],
 "metadata": {
  "kernelspec": {
   "display_name": "Python 3 (ipykernel)",
   "language": "python",
   "name": "python3"
  },
  "language_info": {
   "codemirror_mode": {
    "name": "ipython",
    "version": 3
   },
   "file_extension": ".py",
   "mimetype": "text/x-python",
   "name": "python",
   "nbconvert_exporter": "python",
   "pygments_lexer": "ipython3",
   "version": "3.10.9"
  }
 },
 "nbformat": 4,
 "nbformat_minor": 5
}
