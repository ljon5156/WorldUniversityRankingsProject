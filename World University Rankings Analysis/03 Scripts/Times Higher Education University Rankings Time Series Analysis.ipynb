{
 "cells": [
  {
   "cell_type": "markdown",
   "id": "de1dc925",
   "metadata": {},
   "source": [
    "# Times Higher Education University Rankings Time Series Analysis"
   ]
  },
  {
   "cell_type": "markdown",
   "id": "277ae4be",
   "metadata": {},
   "source": [
    "## 1. Importing Libraries and Data"
   ]
  },
  {
   "cell_type": "code",
   "execution_count": 1,
   "id": "cf608200",
   "metadata": {},
   "outputs": [],
   "source": [
    "import quandl\n",
    "import pandas as pd\n",
    "import numpy as np\n",
    "import seaborn as sns\n",
    "import matplotlib\n",
    "import matplotlib.pyplot as plt\n",
    "import statsmodels.api as sm # Using .api imports the public access version of statsmodels, which is a library that handles \n",
    "# statistical models.\n",
    "import os\n",
    "import warnings # This is a library that handles warnings.\n",
    "\n",
    "warnings.filterwarnings(\"ignore\") # Disable deprecation warnings that could indicate, for instance, a suspended library or \n",
    "# feature. These are more relevant to developers and very seldom to analysts.\n",
    "\n",
    "plt.style.use('fivethirtyeight') # This is a styling option for how your plots will appear. More examples here:\n",
    "# https://matplotlib.org/3.2.1/tutorials/introductory/customizing.html\n",
    "# https://matplotlib.org/3.1.0/gallery/style_sheets/fivethirtyeight.html"
   ]
  },
  {
   "cell_type": "code",
   "execution_count": 2,
   "id": "173dcffa",
   "metadata": {},
   "outputs": [],
   "source": [
    "# Set path variable\n",
    "\n",
    "path = r'C:\\Users\\HP\\Documents\\CareerFoundry\\Data Immersion\\Achievement 6\\World University Rankings Analysis'"
   ]
  },
  {
   "cell_type": "code",
   "execution_count": 3,
   "id": "e29b5cee",
   "metadata": {},
   "outputs": [],
   "source": [
    "# Import dataset\n",
    "\n",
    "df_times = pd.read_csv(os.path.join(path, '02 Data', 'Prepared Data', 'times_top200.csv'))"
   ]
  },
  {
   "cell_type": "code",
   "execution_count": 4,
   "id": "c931769c",
   "metadata": {},
   "outputs": [
    {
     "data": {
      "text/html": [
       "<div>\n",
       "<style scoped>\n",
       "    .dataframe tbody tr th:only-of-type {\n",
       "        vertical-align: middle;\n",
       "    }\n",
       "\n",
       "    .dataframe tbody tr th {\n",
       "        vertical-align: top;\n",
       "    }\n",
       "\n",
       "    .dataframe thead th {\n",
       "        text-align: right;\n",
       "    }\n",
       "</style>\n",
       "<table border=\"1\" class=\"dataframe\">\n",
       "  <thead>\n",
       "    <tr style=\"text-align: right;\">\n",
       "      <th></th>\n",
       "      <th>Unnamed: 0</th>\n",
       "      <th>world_rank_Times</th>\n",
       "      <th>university_name</th>\n",
       "      <th>country</th>\n",
       "      <th>teaching_score</th>\n",
       "      <th>international_outlook_score</th>\n",
       "      <th>research_score</th>\n",
       "      <th>citations_score</th>\n",
       "      <th>income_score</th>\n",
       "      <th>overall_score_Times</th>\n",
       "      <th>num_students</th>\n",
       "      <th>student_staff_ratio</th>\n",
       "      <th>international_students</th>\n",
       "      <th>female_male_ratio</th>\n",
       "      <th>year</th>\n",
       "    </tr>\n",
       "  </thead>\n",
       "  <tbody>\n",
       "    <tr>\n",
       "      <th>0</th>\n",
       "      <td>0</td>\n",
       "      <td>1</td>\n",
       "      <td>Harvard University</td>\n",
       "      <td>United States of America</td>\n",
       "      <td>99.7</td>\n",
       "      <td>72.4</td>\n",
       "      <td>98.7</td>\n",
       "      <td>98.8</td>\n",
       "      <td>34.5</td>\n",
       "      <td>96.1</td>\n",
       "      <td>20152.0</td>\n",
       "      <td>8.9</td>\n",
       "      <td>0.25</td>\n",
       "      <td>NaN</td>\n",
       "      <td>2011</td>\n",
       "    </tr>\n",
       "    <tr>\n",
       "      <th>1</th>\n",
       "      <td>1</td>\n",
       "      <td>2</td>\n",
       "      <td>California Institute of Technology</td>\n",
       "      <td>United States of America</td>\n",
       "      <td>97.7</td>\n",
       "      <td>54.6</td>\n",
       "      <td>98.0</td>\n",
       "      <td>99.9</td>\n",
       "      <td>83.7</td>\n",
       "      <td>96.0</td>\n",
       "      <td>2243.0</td>\n",
       "      <td>6.9</td>\n",
       "      <td>0.27</td>\n",
       "      <td>0.492537</td>\n",
       "      <td>2011</td>\n",
       "    </tr>\n",
       "    <tr>\n",
       "      <th>2</th>\n",
       "      <td>2</td>\n",
       "      <td>3</td>\n",
       "      <td>Massachusetts Institute of Technology</td>\n",
       "      <td>United States of America</td>\n",
       "      <td>97.8</td>\n",
       "      <td>82.3</td>\n",
       "      <td>91.4</td>\n",
       "      <td>99.9</td>\n",
       "      <td>87.5</td>\n",
       "      <td>95.6</td>\n",
       "      <td>11074.0</td>\n",
       "      <td>9.0</td>\n",
       "      <td>0.33</td>\n",
       "      <td>0.587302</td>\n",
       "      <td>2011</td>\n",
       "    </tr>\n",
       "    <tr>\n",
       "      <th>3</th>\n",
       "      <td>3</td>\n",
       "      <td>4</td>\n",
       "      <td>Stanford University</td>\n",
       "      <td>United States of America</td>\n",
       "      <td>98.3</td>\n",
       "      <td>29.5</td>\n",
       "      <td>98.1</td>\n",
       "      <td>99.2</td>\n",
       "      <td>64.3</td>\n",
       "      <td>94.3</td>\n",
       "      <td>15596.0</td>\n",
       "      <td>7.8</td>\n",
       "      <td>0.22</td>\n",
       "      <td>0.724138</td>\n",
       "      <td>2011</td>\n",
       "    </tr>\n",
       "    <tr>\n",
       "      <th>4</th>\n",
       "      <td>4</td>\n",
       "      <td>5</td>\n",
       "      <td>Princeton University</td>\n",
       "      <td>United States of America</td>\n",
       "      <td>90.9</td>\n",
       "      <td>70.3</td>\n",
       "      <td>95.4</td>\n",
       "      <td>99.9</td>\n",
       "      <td>NaN</td>\n",
       "      <td>94.2</td>\n",
       "      <td>7929.0</td>\n",
       "      <td>8.4</td>\n",
       "      <td>0.27</td>\n",
       "      <td>0.818182</td>\n",
       "      <td>2011</td>\n",
       "    </tr>\n",
       "    <tr>\n",
       "      <th>...</th>\n",
       "      <td>...</td>\n",
       "      <td>...</td>\n",
       "      <td>...</td>\n",
       "      <td>...</td>\n",
       "      <td>...</td>\n",
       "      <td>...</td>\n",
       "      <td>...</td>\n",
       "      <td>...</td>\n",
       "      <td>...</td>\n",
       "      <td>...</td>\n",
       "      <td>...</td>\n",
       "      <td>...</td>\n",
       "      <td>...</td>\n",
       "      <td>...</td>\n",
       "      <td>...</td>\n",
       "    </tr>\n",
       "    <tr>\n",
       "      <th>1196</th>\n",
       "      <td>1998</td>\n",
       "      <td>196</td>\n",
       "      <td>Newcastle University</td>\n",
       "      <td>United Kingdom</td>\n",
       "      <td>30.9</td>\n",
       "      <td>84.3</td>\n",
       "      <td>27.5</td>\n",
       "      <td>81.5</td>\n",
       "      <td>34.7</td>\n",
       "      <td>49.2</td>\n",
       "      <td>20174.0</td>\n",
       "      <td>15.2</td>\n",
       "      <td>0.29</td>\n",
       "      <td>1.000000</td>\n",
       "      <td>2016</td>\n",
       "    </tr>\n",
       "    <tr>\n",
       "      <th>1197</th>\n",
       "      <td>1999</td>\n",
       "      <td>196</td>\n",
       "      <td>St George’s, University of London</td>\n",
       "      <td>United Kingdom</td>\n",
       "      <td>25.6</td>\n",
       "      <td>69.5</td>\n",
       "      <td>18.1</td>\n",
       "      <td>100.0</td>\n",
       "      <td>37.7</td>\n",
       "      <td>49.2</td>\n",
       "      <td>2958.0</td>\n",
       "      <td>13.4</td>\n",
       "      <td>0.17</td>\n",
       "      <td>1.564103</td>\n",
       "      <td>2016</td>\n",
       "    </tr>\n",
       "    <tr>\n",
       "      <th>1198</th>\n",
       "      <td>2000</td>\n",
       "      <td>198</td>\n",
       "      <td>University of Trento</td>\n",
       "      <td>Italy</td>\n",
       "      <td>30.8</td>\n",
       "      <td>55.9</td>\n",
       "      <td>27.4</td>\n",
       "      <td>87.7</td>\n",
       "      <td>47.1</td>\n",
       "      <td>49.1</td>\n",
       "      <td>16841.0</td>\n",
       "      <td>43.2</td>\n",
       "      <td>0.08</td>\n",
       "      <td>1.040816</td>\n",
       "      <td>2016</td>\n",
       "    </tr>\n",
       "    <tr>\n",
       "      <th>1199</th>\n",
       "      <td>2001</td>\n",
       "      <td>199</td>\n",
       "      <td>Paris Diderot University – Paris 7</td>\n",
       "      <td>France</td>\n",
       "      <td>30.5</td>\n",
       "      <td>64.9</td>\n",
       "      <td>22.9</td>\n",
       "      <td>91.0</td>\n",
       "      <td>29.0</td>\n",
       "      <td>48.9</td>\n",
       "      <td>27756.0</td>\n",
       "      <td>14.8</td>\n",
       "      <td>0.17</td>\n",
       "      <td>1.702703</td>\n",
       "      <td>2016</td>\n",
       "    </tr>\n",
       "    <tr>\n",
       "      <th>1200</th>\n",
       "      <td>2002</td>\n",
       "      <td>200</td>\n",
       "      <td>Queen’s University Belfast</td>\n",
       "      <td>United Kingdom</td>\n",
       "      <td>34.1</td>\n",
       "      <td>93.4</td>\n",
       "      <td>33.3</td>\n",
       "      <td>68.9</td>\n",
       "      <td>35.7</td>\n",
       "      <td>48.8</td>\n",
       "      <td>17940.0</td>\n",
       "      <td>17.9</td>\n",
       "      <td>0.30</td>\n",
       "      <td>1.173913</td>\n",
       "      <td>2016</td>\n",
       "    </tr>\n",
       "  </tbody>\n",
       "</table>\n",
       "<p>1201 rows × 15 columns</p>\n",
       "</div>"
      ],
      "text/plain": [
       "      Unnamed: 0  world_rank_Times                        university_name  \\\n",
       "0              0                 1                     Harvard University   \n",
       "1              1                 2     California Institute of Technology   \n",
       "2              2                 3  Massachusetts Institute of Technology   \n",
       "3              3                 4                    Stanford University   \n",
       "4              4                 5                   Princeton University   \n",
       "...          ...               ...                                    ...   \n",
       "1196        1998               196                   Newcastle University   \n",
       "1197        1999               196      St George’s, University of London   \n",
       "1198        2000               198                   University of Trento   \n",
       "1199        2001               199     Paris Diderot University – Paris 7   \n",
       "1200        2002               200             Queen’s University Belfast   \n",
       "\n",
       "                       country  teaching_score  international_outlook_score  \\\n",
       "0     United States of America            99.7                         72.4   \n",
       "1     United States of America            97.7                         54.6   \n",
       "2     United States of America            97.8                         82.3   \n",
       "3     United States of America            98.3                         29.5   \n",
       "4     United States of America            90.9                         70.3   \n",
       "...                        ...             ...                          ...   \n",
       "1196            United Kingdom            30.9                         84.3   \n",
       "1197            United Kingdom            25.6                         69.5   \n",
       "1198                     Italy            30.8                         55.9   \n",
       "1199                    France            30.5                         64.9   \n",
       "1200            United Kingdom            34.1                         93.4   \n",
       "\n",
       "      research_score  citations_score  income_score  overall_score_Times  \\\n",
       "0               98.7             98.8          34.5                 96.1   \n",
       "1               98.0             99.9          83.7                 96.0   \n",
       "2               91.4             99.9          87.5                 95.6   \n",
       "3               98.1             99.2          64.3                 94.3   \n",
       "4               95.4             99.9           NaN                 94.2   \n",
       "...              ...              ...           ...                  ...   \n",
       "1196            27.5             81.5          34.7                 49.2   \n",
       "1197            18.1            100.0          37.7                 49.2   \n",
       "1198            27.4             87.7          47.1                 49.1   \n",
       "1199            22.9             91.0          29.0                 48.9   \n",
       "1200            33.3             68.9          35.7                 48.8   \n",
       "\n",
       "      num_students  student_staff_ratio  international_students  \\\n",
       "0          20152.0                  8.9                    0.25   \n",
       "1           2243.0                  6.9                    0.27   \n",
       "2          11074.0                  9.0                    0.33   \n",
       "3          15596.0                  7.8                    0.22   \n",
       "4           7929.0                  8.4                    0.27   \n",
       "...            ...                  ...                     ...   \n",
       "1196       20174.0                 15.2                    0.29   \n",
       "1197        2958.0                 13.4                    0.17   \n",
       "1198       16841.0                 43.2                    0.08   \n",
       "1199       27756.0                 14.8                    0.17   \n",
       "1200       17940.0                 17.9                    0.30   \n",
       "\n",
       "      female_male_ratio  year  \n",
       "0                   NaN  2011  \n",
       "1              0.492537  2011  \n",
       "2              0.587302  2011  \n",
       "3              0.724138  2011  \n",
       "4              0.818182  2011  \n",
       "...                 ...   ...  \n",
       "1196           1.000000  2016  \n",
       "1197           1.564103  2016  \n",
       "1198           1.040816  2016  \n",
       "1199           1.702703  2016  \n",
       "1200           1.173913  2016  \n",
       "\n",
       "[1201 rows x 15 columns]"
      ]
     },
     "execution_count": 4,
     "metadata": {},
     "output_type": "execute_result"
    }
   ],
   "source": [
    "# Check to see if it was imported correctly\n",
    "\n",
    "df_times"
   ]
  },
  {
   "cell_type": "markdown",
   "id": "27a54043",
   "metadata": {},
   "source": [
    "## 2. Data Wrangling, Cleaning, and Subsetting"
   ]
  },
  {
   "cell_type": "code",
   "execution_count": 5,
   "id": "0adc40e8",
   "metadata": {},
   "outputs": [],
   "source": [
    "# Removing the 'Unnamed: 0' column\n",
    "\n",
    "df_times = df_times.drop(columns = ['Unnamed: 0'])"
   ]
  },
  {
   "cell_type": "code",
   "execution_count": 6,
   "id": "ba964315",
   "metadata": {},
   "outputs": [
    {
     "data": {
      "text/plain": [
       "world_rank_Times                 int64\n",
       "university_name                 object\n",
       "country                         object\n",
       "teaching_score                 float64\n",
       "international_outlook_score    float64\n",
       "research_score                 float64\n",
       "citations_score                float64\n",
       "income_score                   float64\n",
       "overall_score_Times            float64\n",
       "num_students                   float64\n",
       "student_staff_ratio            float64\n",
       "international_students         float64\n",
       "female_male_ratio              float64\n",
       "year                             int64\n",
       "dtype: object"
      ]
     },
     "execution_count": 6,
     "metadata": {},
     "output_type": "execute_result"
    }
   ],
   "source": [
    "df_times.dtypes"
   ]
  },
  {
   "cell_type": "code",
   "execution_count": 8,
   "id": "e8ad0e64",
   "metadata": {},
   "outputs": [],
   "source": [
    "# Create a subset with only relevant numerical columns, grouped by 'year' and 'country' columns first\n",
    "\n",
    "df_times_sub1 = df_times.groupby(['year', 'country'], as_index=False)[['world_rank_Times', \n",
    "                                                                       'teaching_score',\n",
    "                                                                       'international_outlook_score',\n",
    "                                                                       'research_score',\n",
    "                                                                       'citations_score',\n",
    "                                                                       'income_score',\n",
    "                                                                       'num_students',\n",
    "                                                                       'student_staff_ratio',\n",
    "                                                                       'international_students',\n",
    "                                                                       'female_male_ratio']].mean()"
   ]
  },
  {
   "cell_type": "code",
   "execution_count": 9,
   "id": "39d06a29",
   "metadata": {},
   "outputs": [
    {
     "data": {
      "text/html": [
       "<div>\n",
       "<style scoped>\n",
       "    .dataframe tbody tr th:only-of-type {\n",
       "        vertical-align: middle;\n",
       "    }\n",
       "\n",
       "    .dataframe tbody tr th {\n",
       "        vertical-align: top;\n",
       "    }\n",
       "\n",
       "    .dataframe thead th {\n",
       "        text-align: right;\n",
       "    }\n",
       "</style>\n",
       "<table border=\"1\" class=\"dataframe\">\n",
       "  <thead>\n",
       "    <tr style=\"text-align: right;\">\n",
       "      <th></th>\n",
       "      <th>year</th>\n",
       "      <th>country</th>\n",
       "      <th>world_rank_Times</th>\n",
       "      <th>teaching_score</th>\n",
       "      <th>international_outlook_score</th>\n",
       "      <th>research_score</th>\n",
       "      <th>citations_score</th>\n",
       "      <th>income_score</th>\n",
       "      <th>num_students</th>\n",
       "      <th>student_staff_ratio</th>\n",
       "      <th>international_students</th>\n",
       "      <th>female_male_ratio</th>\n",
       "    </tr>\n",
       "  </thead>\n",
       "  <tbody>\n",
       "    <tr>\n",
       "      <th>0</th>\n",
       "      <td>2011</td>\n",
       "      <td>Australia</td>\n",
       "      <td>90.571429</td>\n",
       "      <td>49.657143</td>\n",
       "      <td>84.428571</td>\n",
       "      <td>53.342857</td>\n",
       "      <td>71.400000</td>\n",
       "      <td>58.183333</td>\n",
       "      <td>34468.571429</td>\n",
       "      <td>27.471429</td>\n",
       "      <td>0.314286</td>\n",
       "      <td>1.120199</td>\n",
       "    </tr>\n",
       "    <tr>\n",
       "      <th>1</th>\n",
       "      <td>2011</td>\n",
       "      <td>Austria</td>\n",
       "      <td>191.000000</td>\n",
       "      <td>42.750000</td>\n",
       "      <td>81.350000</td>\n",
       "      <td>40.250000</td>\n",
       "      <td>52.900000</td>\n",
       "      <td>31.000000</td>\n",
       "      <td>26430.000000</td>\n",
       "      <td>18.700000</td>\n",
       "      <td>0.320000</td>\n",
       "      <td>1.602108</td>\n",
       "    </tr>\n",
       "    <tr>\n",
       "      <th>2</th>\n",
       "      <td>2011</td>\n",
       "      <td>Belgium</td>\n",
       "      <td>121.500000</td>\n",
       "      <td>55.250000</td>\n",
       "      <td>27.150000</td>\n",
       "      <td>61.000000</td>\n",
       "      <td>49.000000</td>\n",
       "      <td>97.400000</td>\n",
       "      <td>37334.500000</td>\n",
       "      <td>38.000000</td>\n",
       "      <td>0.135000</td>\n",
       "      <td>1.249747</td>\n",
       "    </tr>\n",
       "    <tr>\n",
       "      <th>3</th>\n",
       "      <td>2011</td>\n",
       "      <td>Canada</td>\n",
       "      <td>106.888889</td>\n",
       "      <td>52.422222</td>\n",
       "      <td>69.520000</td>\n",
       "      <td>60.711111</td>\n",
       "      <td>65.522222</td>\n",
       "      <td>38.100000</td>\n",
       "      <td>33927.444444</td>\n",
       "      <td>19.577778</td>\n",
       "      <td>0.193333</td>\n",
       "      <td>1.229909</td>\n",
       "    </tr>\n",
       "    <tr>\n",
       "      <th>4</th>\n",
       "      <td>2011</td>\n",
       "      <td>China</td>\n",
       "      <td>105.333333</td>\n",
       "      <td>60.300000</td>\n",
       "      <td>44.140000</td>\n",
       "      <td>49.783333</td>\n",
       "      <td>66.350000</td>\n",
       "      <td>63.600000</td>\n",
       "      <td>37133.833333</td>\n",
       "      <td>12.616667</td>\n",
       "      <td>0.081667</td>\n",
       "      <td>0.764543</td>\n",
       "    </tr>\n",
       "  </tbody>\n",
       "</table>\n",
       "</div>"
      ],
      "text/plain": [
       "   year    country  world_rank_Times  teaching_score  \\\n",
       "0  2011  Australia         90.571429       49.657143   \n",
       "1  2011    Austria        191.000000       42.750000   \n",
       "2  2011    Belgium        121.500000       55.250000   \n",
       "3  2011     Canada        106.888889       52.422222   \n",
       "4  2011      China        105.333333       60.300000   \n",
       "\n",
       "   international_outlook_score  research_score  citations_score  income_score  \\\n",
       "0                    84.428571       53.342857        71.400000     58.183333   \n",
       "1                    81.350000       40.250000        52.900000     31.000000   \n",
       "2                    27.150000       61.000000        49.000000     97.400000   \n",
       "3                    69.520000       60.711111        65.522222     38.100000   \n",
       "4                    44.140000       49.783333        66.350000     63.600000   \n",
       "\n",
       "   num_students  student_staff_ratio  international_students  \\\n",
       "0  34468.571429            27.471429                0.314286   \n",
       "1  26430.000000            18.700000                0.320000   \n",
       "2  37334.500000            38.000000                0.135000   \n",
       "3  33927.444444            19.577778                0.193333   \n",
       "4  37133.833333            12.616667                0.081667   \n",
       "\n",
       "   female_male_ratio  \n",
       "0           1.120199  \n",
       "1           1.602108  \n",
       "2           1.249747  \n",
       "3           1.229909  \n",
       "4           0.764543  "
      ]
     },
     "execution_count": 9,
     "metadata": {},
     "output_type": "execute_result"
    }
   ],
   "source": [
    "df_times_sub1.head()"
   ]
  },
  {
   "cell_type": "code",
   "execution_count": 10,
   "id": "a0c6410c",
   "metadata": {},
   "outputs": [
    {
     "data": {
      "text/plain": [
       "(158, 12)"
      ]
     },
     "execution_count": 10,
     "metadata": {},
     "output_type": "execute_result"
    }
   ],
   "source": [
    "df_times_sub1.shape"
   ]
  },
  {
   "cell_type": "code",
   "execution_count": 12,
   "id": "5b92b986",
   "metadata": {},
   "outputs": [],
   "source": [
    "# Create a further subset that just includes the year, country, and world ranking columns\n",
    "\n",
    "df_times_timerank = df_times_sub1[['year', 'country', 'world_rank_Times']]"
   ]
  },
  {
   "cell_type": "code",
   "execution_count": 14,
   "id": "369e6a40",
   "metadata": {},
   "outputs": [
    {
     "data": {
      "text/html": [
       "<div>\n",
       "<style scoped>\n",
       "    .dataframe tbody tr th:only-of-type {\n",
       "        vertical-align: middle;\n",
       "    }\n",
       "\n",
       "    .dataframe tbody tr th {\n",
       "        vertical-align: top;\n",
       "    }\n",
       "\n",
       "    .dataframe thead th {\n",
       "        text-align: right;\n",
       "    }\n",
       "</style>\n",
       "<table border=\"1\" class=\"dataframe\">\n",
       "  <thead>\n",
       "    <tr style=\"text-align: right;\">\n",
       "      <th></th>\n",
       "      <th>year</th>\n",
       "      <th>country</th>\n",
       "      <th>world_rank_Times</th>\n",
       "    </tr>\n",
       "  </thead>\n",
       "  <tbody>\n",
       "    <tr>\n",
       "      <th>25</th>\n",
       "      <td>2011</td>\n",
       "      <td>United States of America</td>\n",
       "      <td>71.847222</td>\n",
       "    </tr>\n",
       "    <tr>\n",
       "      <th>51</th>\n",
       "      <td>2012</td>\n",
       "      <td>United States of America</td>\n",
       "      <td>78.226667</td>\n",
       "    </tr>\n",
       "    <tr>\n",
       "      <th>75</th>\n",
       "      <td>2013</td>\n",
       "      <td>United States of America</td>\n",
       "      <td>86.355263</td>\n",
       "    </tr>\n",
       "    <tr>\n",
       "      <th>101</th>\n",
       "      <td>2014</td>\n",
       "      <td>United States of America</td>\n",
       "      <td>87.506494</td>\n",
       "    </tr>\n",
       "    <tr>\n",
       "      <th>129</th>\n",
       "      <td>2015</td>\n",
       "      <td>United States of America</td>\n",
       "      <td>87.500000</td>\n",
       "    </tr>\n",
       "    <tr>\n",
       "      <th>157</th>\n",
       "      <td>2016</td>\n",
       "      <td>United States of America</td>\n",
       "      <td>79.793651</td>\n",
       "    </tr>\n",
       "  </tbody>\n",
       "</table>\n",
       "</div>"
      ],
      "text/plain": [
       "     year                   country  world_rank_Times\n",
       "25   2011  United States of America         71.847222\n",
       "51   2012  United States of America         78.226667\n",
       "75   2013  United States of America         86.355263\n",
       "101  2014  United States of America         87.506494\n",
       "129  2015  United States of America         87.500000\n",
       "157  2016  United States of America         79.793651"
      ]
     },
     "execution_count": 14,
     "metadata": {},
     "output_type": "execute_result"
    }
   ],
   "source": [
    "# Create a subset that only includes universities from the USA\n",
    "\n",
    "df_times_USA = df_times_timerank.loc[df_times_timerank['country'] == 'United States of America']\n",
    "\n",
    "df_times_USA"
   ]
  },
  {
   "cell_type": "code",
   "execution_count": 15,
   "id": "48a634d2",
   "metadata": {},
   "outputs": [],
   "source": [
    "# Drop the 'country' column since it is unnecessary now\n",
    "\n",
    "df_times_USA = df_times_USA.drop(columns = ['country'])"
   ]
  },
  {
   "cell_type": "code",
   "execution_count": 16,
   "id": "79cdd5da",
   "metadata": {},
   "outputs": [
    {
     "data": {
      "text/html": [
       "<div>\n",
       "<style scoped>\n",
       "    .dataframe tbody tr th:only-of-type {\n",
       "        vertical-align: middle;\n",
       "    }\n",
       "\n",
       "    .dataframe tbody tr th {\n",
       "        vertical-align: top;\n",
       "    }\n",
       "\n",
       "    .dataframe thead th {\n",
       "        text-align: right;\n",
       "    }\n",
       "</style>\n",
       "<table border=\"1\" class=\"dataframe\">\n",
       "  <thead>\n",
       "    <tr style=\"text-align: right;\">\n",
       "      <th></th>\n",
       "      <th>world_rank_Times</th>\n",
       "    </tr>\n",
       "    <tr>\n",
       "      <th>datetime</th>\n",
       "      <th></th>\n",
       "    </tr>\n",
       "  </thead>\n",
       "  <tbody>\n",
       "    <tr>\n",
       "      <th>2011-01-01</th>\n",
       "      <td>71.847222</td>\n",
       "    </tr>\n",
       "    <tr>\n",
       "      <th>2012-01-01</th>\n",
       "      <td>78.226667</td>\n",
       "    </tr>\n",
       "    <tr>\n",
       "      <th>2013-01-01</th>\n",
       "      <td>86.355263</td>\n",
       "    </tr>\n",
       "    <tr>\n",
       "      <th>2014-01-01</th>\n",
       "      <td>87.506494</td>\n",
       "    </tr>\n",
       "    <tr>\n",
       "      <th>2015-01-01</th>\n",
       "      <td>87.500000</td>\n",
       "    </tr>\n",
       "  </tbody>\n",
       "</table>\n",
       "</div>"
      ],
      "text/plain": [
       "            world_rank_Times\n",
       "datetime                    \n",
       "2011-01-01         71.847222\n",
       "2012-01-01         78.226667\n",
       "2013-01-01         86.355263\n",
       "2014-01-01         87.506494\n",
       "2015-01-01         87.500000"
      ]
     },
     "execution_count": 16,
     "metadata": {},
     "output_type": "execute_result"
    }
   ],
   "source": [
    "# Set the \"year\" column as the index\n",
    "\n",
    "from datetime import date\n",
    "\n",
    "df_times_USA['datetime'] = pd.to_datetime(df_times_USA['year'], format='%Y') # Create a datetime column from \"year.\"\"\n",
    "df_times_USA = df_times_USA.set_index('datetime') # Set the datetime as the index of the dataframe.\n",
    "df_times_USA.drop(['year'], axis=1, inplace=True) # Drop the \"year\" column.\n",
    "df_times_USA.head()"
   ]
  },
  {
   "cell_type": "markdown",
   "id": "847cea8f",
   "metadata": {},
   "source": [
    "## 3. Create a line chart of the data"
   ]
  },
  {
   "cell_type": "code",
   "execution_count": 17,
   "id": "8818364b",
   "metadata": {},
   "outputs": [
    {
     "data": {
      "text/plain": [
       "[<matplotlib.lines.Line2D at 0x22009de0ee0>]"
      ]
     },
     "execution_count": 17,
     "metadata": {},
     "output_type": "execute_result"
    },
    {
     "data": {
      "image/png": "[encoded data removed]",
      "text/plain": [
       "<Figure size 1500x500 with 1 Axes>"
      ]
     },
     "metadata": {},
     "output_type": "display_data"
    }
   ],
   "source": [
    "# Plot the new data set\n",
    "\n",
    "plt.figure(figsize=(15,5), dpi=100)\n",
    "plt.plot(df_times_USA)"
   ]
  },
  {
   "cell_type": "markdown",
   "id": "dcc7087e",
   "metadata": {},
   "source": [
    "Due to the small number of years available in the data, the line chart for the average world rankings of American Universities seems rather simplistic. There is an overall general increase in world rankings for America universities, with a very slight decrease from 2014 to 2015 and a decrease from 2015 to 2016. The USA is still consistent and has the largest amount of top universities out of all countries by a large margin. "
   ]
  },
  {
   "cell_type": "markdown",
   "id": "360a936b",
   "metadata": {},
   "source": [
    "## 4. Decompose the data's components"
   ]
  },
  {
   "cell_type": "code",
   "execution_count": 18,
   "id": "c38d2fe6",
   "metadata": {},
   "outputs": [],
   "source": [
    "# Decompose the time series using an additive model\n",
    "\n",
    "decomposition = sm.tsa.seasonal_decompose(df_times_USA, model='additive')"
   ]
  },
  {
   "cell_type": "code",
   "execution_count": 19,
   "id": "4fbbf5f1",
   "metadata": {},
   "outputs": [],
   "source": [
    "from pylab import rcParams # This will define a fixed size for all special charts.\n",
    "\n",
    "rcParams['figure.figsize'] = 18, 7"
   ]
  },
  {
   "cell_type": "code",
   "execution_count": 20,
   "id": "580d5e59",
   "metadata": {},
   "outputs": [
    {
     "data": {
      "image/png": "[encoded data removed]",
      "text/plain": [
       "<Figure size 1800x700 with 4 Axes>"
      ]
     },
     "metadata": {},
     "output_type": "display_data"
    }
   ],
   "source": [
    "# Plot the separate components\n",
    "\n",
    "decomposition.plot()\n",
    "plt.show()"
   ]
  },
  {
   "cell_type": "markdown",
   "id": "bb042320",
   "metadata": {},
   "source": [
    "There is an overall positive trend even though it looks like more of a jump in the graph. There appears to be no seasonality and no residual noise. The data looks to be non-stationary due to the overall positive trend but may not be reliable due to the lack of time data points. In addition, while the trend looks significant, the scale of the increase is rather small (the range of the graph is only 10). "
   ]
  },
  {
   "cell_type": "markdown",
   "id": "8e2026bb",
   "metadata": {},
   "source": [
    "## 5. Conduct a Dickey-Fuller Test to check for stationarity. Interpret the results and reference your null hypothesis."
   ]
  },
  {
   "cell_type": "code",
   "execution_count": 21,
   "id": "396e1962",
   "metadata": {},
   "outputs": [
    {
     "name": "stdout",
     "output_type": "stream",
     "text": [
      "Dickey-Fuller Stationarity test:\n",
      "Test Statistic                -2.122433\n",
      "p-value                        0.235590\n",
      "Number of Lags Used            0.000000\n",
      "Number of Observations Used    5.000000\n",
      "Critical Value (1%)           -6.045114\n",
      "Critical Value (5%)           -3.929280\n",
      "Critical Value (10%)          -2.986810\n",
      "dtype: float64\n"
     ]
    }
   ],
   "source": [
    "# The adfuller() function will import from the model from statsmodels for the test; however, running it will only return \n",
    "# an array of numbers. This is why you need to also define a function that prints the correct output from that array.\n",
    "\n",
    "from statsmodels.tsa.stattools import adfuller # Import the adfuller() function\n",
    "\n",
    "def dickey_fuller(timeseries): # Define the function\n",
    "    # Perform the Dickey-Fuller test:\n",
    "    print ('Dickey-Fuller Stationarity test:')\n",
    "    test = adfuller(timeseries, autolag='AIC')\n",
    "    result = pd.Series(test[0:4], index=['Test Statistic','p-value','Number of Lags Used','Number of Observations Used'])\n",
    "    for key,value in test[4].items():\n",
    "       result['Critical Value (%s)'%key] = value\n",
    "    print (result)\n",
    "\n",
    "# Apply the test using the function on the time series\n",
    "dickey_fuller(df_times_USA['world_rank_Times'])"
   ]
  },
  {
   "cell_type": "markdown",
   "id": "fdc0967b",
   "metadata": {},
   "source": [
    "Test Statistic: -2.122\n",
    "\n",
    "5% Critical Value: -3.929\n",
    "\n",
    "Because the Test Statistic is greater than the Critical Value, the null hypothesis cannot be rejected. There is a unit root in the data and the data is non-stationary. "
   ]
  },
  {
   "cell_type": "markdown",
   "id": "830def12",
   "metadata": {},
   "source": [
    "## 6. Conduct a round of differencing on the data and repeat the check."
   ]
  },
  {
   "cell_type": "code",
   "execution_count": 22,
   "id": "ef8b3f68",
   "metadata": {},
   "outputs": [],
   "source": [
    "# The df.shift(1) function turns the observation to t-1, making the whole thing t - (t -1)\n",
    "\n",
    "df_times_USA_diff = df_times_USA - df_times_USA.shift(1)"
   ]
  },
  {
   "cell_type": "code",
   "execution_count": 23,
   "id": "ceb83b53",
   "metadata": {},
   "outputs": [],
   "source": [
    "# Remove the missing values in order to run the Dickey-Fuller test. \n",
    "\n",
    "df_times_USA_diff.dropna(inplace = True)"
   ]
  },
  {
   "cell_type": "code",
   "execution_count": 24,
   "id": "906435ad",
   "metadata": {},
   "outputs": [
    {
     "data": {
      "text/html": [
       "<div>\n",
       "<style scoped>\n",
       "    .dataframe tbody tr th:only-of-type {\n",
       "        vertical-align: middle;\n",
       "    }\n",
       "\n",
       "    .dataframe tbody tr th {\n",
       "        vertical-align: top;\n",
       "    }\n",
       "\n",
       "    .dataframe thead th {\n",
       "        text-align: right;\n",
       "    }\n",
       "</style>\n",
       "<table border=\"1\" class=\"dataframe\">\n",
       "  <thead>\n",
       "    <tr style=\"text-align: right;\">\n",
       "      <th></th>\n",
       "      <th>world_rank_Times</th>\n",
       "    </tr>\n",
       "    <tr>\n",
       "      <th>datetime</th>\n",
       "      <th></th>\n",
       "    </tr>\n",
       "  </thead>\n",
       "  <tbody>\n",
       "    <tr>\n",
       "      <th>2012-01-01</th>\n",
       "      <td>6.379444</td>\n",
       "    </tr>\n",
       "    <tr>\n",
       "      <th>2013-01-01</th>\n",
       "      <td>8.128596</td>\n",
       "    </tr>\n",
       "    <tr>\n",
       "      <th>2014-01-01</th>\n",
       "      <td>1.151230</td>\n",
       "    </tr>\n",
       "    <tr>\n",
       "      <th>2015-01-01</th>\n",
       "      <td>-0.006494</td>\n",
       "    </tr>\n",
       "    <tr>\n",
       "      <th>2016-01-01</th>\n",
       "      <td>-7.706349</td>\n",
       "    </tr>\n",
       "  </tbody>\n",
       "</table>\n",
       "</div>"
      ],
      "text/plain": [
       "            world_rank_Times\n",
       "datetime                    \n",
       "2012-01-01          6.379444\n",
       "2013-01-01          8.128596\n",
       "2014-01-01          1.151230\n",
       "2015-01-01         -0.006494\n",
       "2016-01-01         -7.706349"
      ]
     },
     "execution_count": 24,
     "metadata": {},
     "output_type": "execute_result"
    }
   ],
   "source": [
    "df_times_USA_diff.head()"
   ]
  },
  {
   "cell_type": "code",
   "execution_count": 25,
   "id": "869a74cd",
   "metadata": {},
   "outputs": [
    {
     "data": {
      "text/plain": [
       "[<matplotlib.lines.Line2D at 0x2200b309d20>]"
      ]
     },
     "execution_count": 25,
     "metadata": {},
     "output_type": "execute_result"
    },
    {
     "data": {
      "image/png": "[encoded data removed]",
      "text/plain": [
       "<Figure size 1500x500 with 1 Axes>"
      ]
     },
     "metadata": {},
     "output_type": "display_data"
    }
   ],
   "source": [
    "# Check out what the differencing did to the time-series curve\n",
    "\n",
    "plt.figure(figsize=(15,5), dpi=100)\n",
    "plt.plot(df_times_USA_diff)"
   ]
  },
  {
   "cell_type": "code",
   "execution_count": 26,
   "id": "f6287fdc",
   "metadata": {
    "scrolled": true
   },
   "outputs": [
    {
     "name": "stdout",
     "output_type": "stream",
     "text": [
      "Dickey-Fuller Stationarity test:\n",
      "Test Statistic                 0.218510\n",
      "p-value                        0.973281\n",
      "Number of Lags Used            0.000000\n",
      "Number of Observations Used    4.000000\n",
      "Critical Value (1%)           -7.355441\n",
      "Critical Value (5%)           -4.474365\n",
      "Critical Value (10%)          -3.126933\n",
      "dtype: float64\n"
     ]
    }
   ],
   "source": [
    "dickey_fuller(df_times_USA_diff)"
   ]
  },
  {
   "cell_type": "markdown",
   "id": "19c81556",
   "metadata": {},
   "source": [
    "Test Statistic: 0.219\n",
    "\n",
    "5% Critical Value: -4.474\n",
    "\n",
    "Once again, because the Test Statistic is greater than the Critical Value, the null hypothesis cannot be rejected. There is a unit root in the data and the data is non-stationary. "
   ]
  },
  {
   "cell_type": "markdown",
   "id": "d3ea1d3c",
   "metadata": {},
   "source": [
    "## 7. Repeat the differencing a second time. "
   ]
  },
  {
   "cell_type": "code",
   "execution_count": 27,
   "id": "57cb1f4d",
   "metadata": {},
   "outputs": [],
   "source": [
    "# The df.shift(1) function turns the observation to t-1, making the whole thing t - (t -1)\n",
    "\n",
    "df_times_USA_diff_round2 = df_times_USA_diff - df_times_USA_diff.shift(1)"
   ]
  },
  {
   "cell_type": "code",
   "execution_count": 28,
   "id": "088380e3",
   "metadata": {},
   "outputs": [],
   "source": [
    "# Remove the missing values in order to run the Dickey-Fuller test. \n",
    "\n",
    "df_times_USA_diff_round2.dropna(inplace = True)"
   ]
  },
  {
   "cell_type": "code",
   "execution_count": 29,
   "id": "b49626ca",
   "metadata": {},
   "outputs": [
    {
     "data": {
      "text/html": [
       "<div>\n",
       "<style scoped>\n",
       "    .dataframe tbody tr th:only-of-type {\n",
       "        vertical-align: middle;\n",
       "    }\n",
       "\n",
       "    .dataframe tbody tr th {\n",
       "        vertical-align: top;\n",
       "    }\n",
       "\n",
       "    .dataframe thead th {\n",
       "        text-align: right;\n",
       "    }\n",
       "</style>\n",
       "<table border=\"1\" class=\"dataframe\">\n",
       "  <thead>\n",
       "    <tr style=\"text-align: right;\">\n",
       "      <th></th>\n",
       "      <th>world_rank_Times</th>\n",
       "    </tr>\n",
       "    <tr>\n",
       "      <th>datetime</th>\n",
       "      <th></th>\n",
       "    </tr>\n",
       "  </thead>\n",
       "  <tbody>\n",
       "    <tr>\n",
       "      <th>2013-01-01</th>\n",
       "      <td>1.749152</td>\n",
       "    </tr>\n",
       "    <tr>\n",
       "      <th>2014-01-01</th>\n",
       "      <td>-6.977366</td>\n",
       "    </tr>\n",
       "    <tr>\n",
       "      <th>2015-01-01</th>\n",
       "      <td>-1.157724</td>\n",
       "    </tr>\n",
       "    <tr>\n",
       "      <th>2016-01-01</th>\n",
       "      <td>-7.699856</td>\n",
       "    </tr>\n",
       "  </tbody>\n",
       "</table>\n",
       "</div>"
      ],
      "text/plain": [
       "            world_rank_Times\n",
       "datetime                    \n",
       "2013-01-01          1.749152\n",
       "2014-01-01         -6.977366\n",
       "2015-01-01         -1.157724\n",
       "2016-01-01         -7.699856"
      ]
     },
     "execution_count": 29,
     "metadata": {},
     "output_type": "execute_result"
    }
   ],
   "source": [
    "df_times_USA_diff_round2.head()"
   ]
  },
  {
   "cell_type": "code",
   "execution_count": 30,
   "id": "89567184",
   "metadata": {},
   "outputs": [
    {
     "data": {
      "text/plain": [
       "[<matplotlib.lines.Line2D at 0x2200b39ead0>]"
      ]
     },
     "execution_count": 30,
     "metadata": {},
     "output_type": "execute_result"
    },
    {
     "data": {
      "image/png": "[encoded data removed]",
      "text/plain": [
       "<Figure size 1500x500 with 1 Axes>"
      ]
     },
     "metadata": {},
     "output_type": "display_data"
    }
   ],
   "source": [
    "# Check out what the differencing did to the time-series curve\n",
    "\n",
    "plt.figure(figsize=(15,5), dpi=100)\n",
    "plt.plot(df_times_USA_diff_round2)"
   ]
  },
  {
   "cell_type": "code",
   "execution_count": 26,
   "id": "64df18a3",
   "metadata": {
    "scrolled": true
   },
   "outputs": [
    {
     "name": "stdout",
     "output_type": "stream",
     "text": [
      "Dickey-Fuller Stationarity test:\n",
      "Test Statistic                 0.218510\n",
      "p-value                        0.973281\n",
      "Number of Lags Used            0.000000\n",
      "Number of Observations Used    4.000000\n",
      "Critical Value (1%)           -7.355441\n",
      "Critical Value (5%)           -4.474365\n",
      "Critical Value (10%)          -3.126933\n",
      "dtype: float64\n"
     ]
    }
   ],
   "source": [
    "dickey_fuller(df_times_USA_diff_round2)"
   ]
  },
  {
   "cell_type": "markdown",
   "id": "c73a6599",
   "metadata": {},
   "source": [
    "Test Statistic: 0.219\n",
    "\n",
    "5% Critical Value: -4.474\n",
    "\n",
    "Once again, because the Test Statistic is greater than the Critical Value, the null hypothesis cannot be rejected. There is a unit root in the data and the data is non-stationary. "
   ]
  },
  {
   "cell_type": "markdown",
   "id": "1cb05537",
   "metadata": {},
   "source": [
    "## 8. Check out the data's autocorrelations"
   ]
  },
  {
   "cell_type": "code",
   "execution_count": 31,
   "id": "8a19d172",
   "metadata": {},
   "outputs": [
    {
     "data": {
      "image/png": "[encoded data removed]",
      "text/plain": [
       "<Figure size 1800x700 with 1 Axes>"
      ]
     },
     "metadata": {},
     "output_type": "display_data"
    }
   ],
   "source": [
    "# Check out a plot of autocorrelations\n",
    "\n",
    "from statsmodels.graphics.tsaplots import plot_acf, plot_pacf # Here, you import the autocorrelation and partial correlation plots\n",
    "\n",
    "plot_acf(df_times_USA)\n",
    "plt.show()"
   ]
  },
  {
   "cell_type": "markdown",
   "id": "106cb2f5",
   "metadata": {},
   "source": [
    "There is only one line that it out of bounds of the confidence interval, which indicates that the data is not correlated with each other and is stationary. However, this is likely due to the fact that there are only 6 datapoints, so this autocorrelation graph may not be very accurate. "
   ]
  },
  {
   "cell_type": "markdown",
   "id": "bc2a58df",
   "metadata": {},
   "source": [
    "## 9. Final steps (saving files)"
   ]
  },
  {
   "cell_type": "code",
   "execution_count": 32,
   "id": "876cca7d",
   "metadata": {},
   "outputs": [],
   "source": [
    "# Export the aggregate dataframe of world rankings since it could possibly be useful in the future\n",
    "\n",
    "df_times_timerank.to_csv(os.path.join(path, '02 Data', 'Prepared Data', 'times_top200_timecountrygrouped.csv'))"
   ]
  },
  {
   "cell_type": "code",
   "execution_count": null,
   "id": "62b4aec4",
   "metadata": {},
   "outputs": [],
   "source": []
  }
 ],
 "metadata": {
  "kernelspec": {
   "display_name": "Python 3 (ipykernel)",
   "language": "python",
   "name": "python3"
  },
  "language_info": {
   "codemirror_mode": {
    "name": "ipython",
    "version": 3
   },
   "file_extension": ".py",
   "mimetype": "text/x-python",
   "name": "python",
   "nbconvert_exporter": "python",
   "pygments_lexer": "ipython3",
   "version": "3.10.9"
  }
 },
 "nbformat": 4,
 "nbformat_minor": 5
}
